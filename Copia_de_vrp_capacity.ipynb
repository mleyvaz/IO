{
  "nbformat": 4,
  "nbformat_minor": 0,
  "metadata": {
    "colab": {
      "name": "Copia de vrp_capacity.ipynb",
      "provenance": [],
      "include_colab_link": true
    },
    "kernelspec": {
      "name": "python3",
      "display_name": "Python 3"
    }
  },
  "cells": [
    {
      "cell_type": "markdown",
      "metadata": {
        "id": "view-in-github",
        "colab_type": "text"
      },
      "source": [
        "<a href=\"https://colab.research.google.com/github/mleyvaz/IO/blob/main/Copia_de_vrp_capacity.ipynb\" target=\"_parent\"><img src=\"https://colab.research.google.com/assets/colab-badge.svg\" alt=\"Open In Colab\"/></a>"
      ]
    },
    {
      "cell_type": "markdown",
      "metadata": {
        "id": "m7rhkf-_PHuM"
      },
      "source": [
        "##### Copyright 2020 Google LLC."
      ]
    },
    {
      "cell_type": "markdown",
      "metadata": {
        "id": "AJ8WF_gPPHuW"
      },
      "source": [
        "Licensed under the Apache License, Version 2.0 (the \"License\");\n",
        "you may not use this file except in compliance with the License.\n",
        "You may obtain a copy of the License at\n",
        "\n",
        "    http://www.apache.org/licenses/LICENSE-2.0\n",
        "\n",
        "Unless required by applicable law or agreed to in writing, software\n",
        "distributed under the License is distributed on an \"AS IS\" BASIS,\n",
        "WITHOUT WARRANTIES OR CONDITIONS OF ANY KIND, either express or implied.\n",
        "See the License for the specific language governing permissions and\n",
        "limitations under the License.\n"
      ]
    },
    {
      "cell_type": "markdown",
      "metadata": {
        "id": "dnFiViRzPHuX"
      },
      "source": [
        "# vrp_capacity"
      ]
    },
    {
      "cell_type": "markdown",
      "metadata": {
        "id": "ERmz7NrJPHuX"
      },
      "source": [
        "<table align=\"left\">\n",
        "<td>\n",
        "<a href=\"https://colab.research.google.com/github/google/or-tools/blob/master/examples/notebook/constraint_solver/vrp_capacity.ipynb\"><img src=\"https://raw.githubusercontent.com/google/or-tools/master/tools/colab_32px.png\"/>Run in Google Colab</a>\n",
        "</td>\n",
        "<td>\n",
        "<a href=\"https://github.com/google/or-tools/blob/master/ortools/constraint_solver/samples/vrp_capacity.py\"><img src=\"https://raw.githubusercontent.com/google/or-tools/master/tools/github_32px.png\"/>View source on GitHub</a>\n",
        "</td>\n",
        "</table>"
      ]
    },
    {
      "cell_type": "markdown",
      "metadata": {
        "id": "WLaF8xJtPHuY"
      },
      "source": [
        "First, you must install [ortools](https://pypi.org/project/ortools/) package in this colab."
      ]
    },
    {
      "cell_type": "code",
      "metadata": {
        "id": "_Q-4ihsqPHuY",
        "colab": {
          "base_uri": "https://localhost:8080/"
        },
        "outputId": "78063f8d-eb2a-4116-e95d-1e717563a547"
      },
      "source": [
        "!pip install ortools"
      ],
      "execution_count": 7,
      "outputs": [
        {
          "output_type": "stream",
          "text": [
            "Requirement already satisfied: ortools in /usr/local/lib/python3.6/dist-packages (8.1.8487)\n",
            "Requirement already satisfied: absl-py>=0.11 in /usr/local/lib/python3.6/dist-packages (from ortools) (0.11.0)\n",
            "Requirement already satisfied: protobuf>=3.14.0 in /usr/local/lib/python3.6/dist-packages (from ortools) (3.15.1)\n",
            "Requirement already satisfied: six in /usr/local/lib/python3.6/dist-packages (from absl-py>=0.11->ortools) (1.15.0)\n"
          ],
          "name": "stdout"
        }
      ]
    },
    {
      "cell_type": "code",
      "metadata": {
        "id": "JuoyPqghPHuY",
        "colab": {
          "base_uri": "https://localhost:8080/"
        },
        "outputId": "f294162c-81aa-4775-c977-8aa5efe725d5"
      },
      "source": [
        "# Copyright 2010-2018 Google LLC\n",
        "# Licensed under the Apache License, Version 2.0 (the \"License\");\n",
        "# you may not use this file except in compliance with the License.\n",
        "# You may obtain a copy of the License at\n",
        "#\n",
        "#     http://www.apache.org/licenses/LICENSE-2.0\n",
        "#\n",
        "# Unless required by applicable law or agreed to in writing, software\n",
        "# distributed under the License is distributed on an \"AS IS\" BASIS,\n",
        "# WITHOUT WARRANTIES OR CONDITIONS OF ANY KIND, either express or implied.\n",
        "# See the License for the specific language governing permissions and\n",
        "# limitations under the License.\n",
        "# [START program]\n",
        "\"\"\"Capacited Vehicles Routing Problem (CVRP).\"\"\"\n",
        "\n",
        "# [START import]\n",
        "from ortools.constraint_solver import routing_enums_pb2\n",
        "from ortools.constraint_solver import pywrapcp\n",
        "# [END import]\n",
        "\n",
        "\n",
        "# [START data_model]\n",
        "def create_data_model():\n",
        "    \"\"\"Stores the data for the problem.\"\"\"\n",
        "    data = {}\n",
        "    data['distance_matrix'] = [[   0.        ,   58.96033328,  423.83701042,  802.77455621,\n",
        "         832.92540752,  925.27301166,  988.86855674, 1107.27264687,\n",
        "        1143.04199017, 1233.90085185, 1290.46535858],\n",
        "       [  58.96033328,    0.        ,  472.92246944,  857.63279438,\n",
        "         888.36268089,  981.4189883 , 1044.41726613, 1161.87259956,\n",
        "        1197.43477234, 1287.86705234, 1344.13354768],\n",
        "       [ 423.83701042,  472.92246944,    0.        ,  403.09599167,\n",
        "         438.25146263,  536.2846193 ,  591.85371715,  700.93923538,\n",
        "         735.06136676,  822.90488709,  877.71991985],\n",
        "       [ 802.77455621,  857.63279438,  403.09599167,    0.        ,\n",
        "          38.43921435,  136.03615769,  188.95288355,  304.60275836,\n",
        "         340.68414228,  432.58077639,  490.11432136],\n",
        "       [ 832.92540752,  888.36268089,  438.25146263,   38.43921435,\n",
        "           0.        ,   98.64194747,  156.09537149,  276.7166493 ,\n",
        "         313.45218008,  406.31496908,  464.44714705],\n",
        "       [ 925.27301166,  981.4189883 ,  536.2846193 ,  136.03615769,\n",
        "          98.64194747,    0.        ,   70.53798126,  198.02823082,\n",
        "         235.12725448,  328.10514245,  386.71679689],\n",
        "       [ 988.86855674, 1044.41726613,  591.85371715,  188.95288355,\n",
        "         156.09537149,   70.53798126,    0.        ,  127.50840364,\n",
        "         164.6394248 ,  257.73660605,  316.3627339 ],\n",
        "       [1107.27264687, 1161.87259956,  700.93923538,  304.60275836,\n",
        "         276.7166493 ,  198.02823082,  127.50840364,    0.        ,\n",
        "          37.21067051,  130.54269378,  189.13835888],\n",
        "       [1143.04199017, 1197.43477234,  735.06136676,  340.68414228,\n",
        "         313.45218008,  235.12725448,  164.6394248 ,   37.21067051,\n",
        "           0.        ,   93.34749327,  151.93102119],\n",
        "       [1233.90085185, 1287.86705234,  822.90488709,  432.58077639,\n",
        "         406.31496908,  328.10514245,  257.73660605,  130.54269378,\n",
        "          93.34749327,    0.        ,   58.62798734],\n",
        "       [1290.46535858, 1344.13354768,  877.71991985,  490.11432136,\n",
        "         464.44714705,  386.71679689,  316.3627339 ,  189.13835888,\n",
        "         151.93102119,   58.62798734,    0.        ]]\n",
        "    # [START demands_capacities]\n",
        "    data['demands'] = [15, 0.3, 0.8, 0.3, 0.3, 0.3, 0.3, 0.3, 0.3, 0.3, 15]\n",
        "    data['vehicle_capacities'] = [15, 15]\n",
        "    # [END demands_capacities]\n",
        "    data['num_vehicles'] = 2\n",
        "    data['depot'] = 7\n",
        "    return data\n",
        "    # [END data_model]\n",
        "\n",
        "\n",
        "# [START solution_printer]\n",
        "def print_solution(data, manager, routing, solution):\n",
        "    \"\"\"Prints solution on console.\"\"\"\n",
        "    total_distance = 0\n",
        "    total_load = 0\n",
        "    for vehicle_id in range(data['num_vehicles']):\n",
        "        index = routing.Start(vehicle_id)\n",
        "        plan_output = 'Route for vehicle {}:\\n'.format(vehicle_id)\n",
        "        route_distance = 0\n",
        "        route_load = 0\n",
        "        while not routing.IsEnd(index):\n",
        "            node_index = manager.IndexToNode(index)\n",
        "            route_load += data['demands'][node_index]\n",
        "            plan_output += ' {0} Load({1}) -> '.format(node_index, route_load)\n",
        "            previous_index = index\n",
        "            index = solution.Value(routing.NextVar(index))\n",
        "            route_distance += routing.GetArcCostForVehicle(\n",
        "                previous_index, index, vehicle_id)\n",
        "        plan_output += ' {0} Load({1})\\n'.format(manager.IndexToNode(index),\n",
        "                                                 route_load)\n",
        "        plan_output += 'Distance of the route: {}m\\n'.format(route_distance)\n",
        "        plan_output += 'Load of the route: {}\\n'.format(route_load)\n",
        "        print(plan_output)\n",
        "        total_distance += route_distance\n",
        "        total_load += route_load\n",
        "    print('Total distance of all routes: {}m'.format(total_distance))\n",
        "    print('Total load of all routes: {}'.format(total_load))\n",
        "    # [END solution_printer]\n",
        "\n",
        "\n",
        "\"\"\"Solve the CVRP problem.\"\"\"\n",
        "# Instantiate the data problem.\n",
        "# [START data]\n",
        "data = create_data_model()\n",
        "# [END data]\n",
        "\n",
        "# Create the routing index manager.\n",
        "# [START index_manager]\n",
        "manager = pywrapcp.RoutingIndexManager(len(data['distance_matrix']),\n",
        "                                       data['num_vehicles'], data['depot'])\n",
        "# [END index_manager]\n",
        "\n",
        "# Create Routing Model.\n",
        "# [START routing_model]\n",
        "routing = pywrapcp.RoutingModel(manager)\n",
        "\n",
        "# [END routing_model]\n",
        "\n",
        "# Create and register a transit callback.\n",
        "# [START transit_callback]\n",
        "def distance_callback(from_index, to_index):\n",
        "    \"\"\"Returns the distance between the two nodes.\"\"\"\n",
        "    # Convert from routing variable Index to distance matrix NodeIndex.\n",
        "    from_node = manager.IndexToNode(from_index)\n",
        "    to_node = manager.IndexToNode(to_index)\n",
        "    return data['distance_matrix'][from_node][to_node]\n",
        "\n",
        "transit_callback_index = routing.RegisterTransitCallback(distance_callback)\n",
        "# [END transit_callback]\n",
        "\n",
        "# Define cost of each arc.\n",
        "# [START arc_cost]\n",
        "routing.SetArcCostEvaluatorOfAllVehicles(transit_callback_index)\n",
        "\n",
        "# [END arc_cost]\n",
        "\n",
        "# Add Capacity constraint.\n",
        "# [START capacity_constraint]\n",
        "def demand_callback(from_index):\n",
        "    \"\"\"Returns the demand of the node.\"\"\"\n",
        "    # Convert from routing variable Index to demands NodeIndex.\n",
        "    from_node = manager.IndexToNode(from_index)\n",
        "    return data['demands'][from_node]\n",
        "\n",
        "demand_callback_index = routing.RegisterUnaryTransitCallback(\n",
        "    demand_callback)\n",
        "routing.AddDimensionWithVehicleCapacity(\n",
        "    demand_callback_index,\n",
        "    0,  # null capacity slack\n",
        "    data['vehicle_capacities'],  # vehicle maximum capacities\n",
        "    True,  # start cumul to zero\n",
        "    'Capacity')\n",
        "# [END capacity_constraint]\n",
        "\n",
        "# Setting first solution heuristic.\n",
        "# [START parameters]\n",
        "search_parameters = pywrapcp.DefaultRoutingSearchParameters()\n",
        "search_parameters.first_solution_strategy = (\n",
        "    routing_enums_pb2.FirstSolutionStrategy.PATH_CHEAPEST_ARC)\n",
        "search_parameters.local_search_metaheuristic = (\n",
        "    routing_enums_pb2.LocalSearchMetaheuristic.GUIDED_LOCAL_SEARCH)\n",
        "search_parameters.time_limit.FromSeconds(1)\n",
        "# [END parameters]\n",
        "\n",
        "# Solve the problem.\n",
        "# [START solve]\n",
        "solution = routing.SolveWithParameters(search_parameters)\n",
        "# [END solve]\n",
        "\n",
        "# Print solution on console.\n",
        "# [START print_solution]\n",
        "if solution:\n",
        "    print_solution(data, manager, routing, solution)\n",
        "# [END print_solution]\n",
        "\n"
      ],
      "execution_count": 8,
      "outputs": [
        {
          "output_type": "stream",
          "text": [
            "Route for vehicle 0:\n",
            " 7 Load(0.3) ->  6 Load(0.6) ->  5 Load(0.8999999999999999) ->  4 Load(1.2) ->  0 Load(16.2) ->  1 Load(16.5) ->  2 Load(17.3) ->  3 Load(17.6) ->  7 Load(17.6)\n",
            "Distance of the route: 2364m\n",
            "Load of the route: 17.6\n",
            "\n",
            "Route for vehicle 1:\n",
            " 7 Load(0.3) ->  9 Load(0.6) ->  10 Load(15.6) ->  8 Load(15.9) ->  7 Load(15.9)\n",
            "Distance of the route: 376m\n",
            "Load of the route: 15.9\n",
            "\n",
            "Total distance of all routes: 2740m\n",
            "Total load of all routes: 33.5\n"
          ],
          "name": "stdout"
        }
      ]
    }
  ]
}