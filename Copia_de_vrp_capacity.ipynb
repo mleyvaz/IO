{
  "nbformat": 4,
  "nbformat_minor": 0,
  "metadata": {
    "colab": {
      "name": "Copia de vrp_capacity.ipynb",
      "provenance": [],
      "include_colab_link": true
    },
    "kernelspec": {
      "name": "python3",
      "display_name": "Python 3"
    }
  },
  "cells": [
    {
      "cell_type": "markdown",
      "metadata": {
        "id": "view-in-github",
        "colab_type": "text"
      },
      "source": [
        "<a href=\"https://colab.research.google.com/github/mleyvaz/IO/blob/main/Copia_de_vrp_capacity.ipynb\" target=\"_parent\"><img src=\"https://colab.research.google.com/assets/colab-badge.svg\" alt=\"Open In Colab\"/></a>"
      ]
    },
    {
      "cell_type": "markdown",
      "metadata": {
        "id": "m7rhkf-_PHuM"
      },
      "source": [
        "##### Copyright 2020 Google LLC."
      ]
    },
    {
      "cell_type": "markdown",
      "metadata": {
        "id": "AJ8WF_gPPHuW"
      },
      "source": [
        "Licensed under the Apache License, Version 2.0 (the \"License\");\n",
        "you may not use this file except in compliance with the License.\n",
        "You may obtain a copy of the License at\n",
        "\n",
        "    http://www.apache.org/licenses/LICENSE-2.0\n",
        "\n",
        "Unless required by applicable law or agreed to in writing, software\n",
        "distributed under the License is distributed on an \"AS IS\" BASIS,\n",
        "WITHOUT WARRANTIES OR CONDITIONS OF ANY KIND, either express or implied.\n",
        "See the License for the specific language governing permissions and\n",
        "limitations under the License.\n"
      ]
    },
    {
      "cell_type": "markdown",
      "metadata": {
        "id": "dnFiViRzPHuX"
      },
      "source": [
        "# vrp_capacity"
      ]
    },
    {
      "cell_type": "markdown",
      "metadata": {
        "id": "ERmz7NrJPHuX"
      },
      "source": [
        "<table align=\"left\">\n",
        "<td>\n",
        "<a href=\"https://colab.research.google.com/github/google/or-tools/blob/master/examples/notebook/constraint_solver/vrp_capacity.ipynb\"><img src=\"https://raw.githubusercontent.com/google/or-tools/master/tools/colab_32px.png\"/>Run in Google Colab</a>\n",
        "</td>\n",
        "<td>\n",
        "<a href=\"https://github.com/google/or-tools/blob/master/ortools/constraint_solver/samples/vrp_capacity.py\"><img src=\"https://raw.githubusercontent.com/google/or-tools/master/tools/github_32px.png\"/>View source on GitHub</a>\n",
        "</td>\n",
        "</table>"
      ]
    },
    {
      "cell_type": "markdown",
      "metadata": {
        "id": "WLaF8xJtPHuY"
      },
      "source": [
        "First, you must install [ortools](https://pypi.org/project/ortools/) package in this colab."
      ]
    },
    {
      "cell_type": "code",
      "metadata": {
        "id": "_Q-4ihsqPHuY",
        "colab": {
          "base_uri": "https://localhost:8080/",
          "height": 445
        },
        "outputId": "af7c7dcf-5704-49cb-f085-ebcaf369ed64"
      },
      "source": [
        "!pip install ortools"
      ],
      "execution_count": 1,
      "outputs": [
        {
          "output_type": "stream",
          "text": [
            "Collecting ortools\n",
            "\u001b[?25l  Downloading https://files.pythonhosted.org/packages/63/94/2832edee6f4fb4e77e8585b6034f9506be24361fe6ead4e76de38ab0a666/ortools-8.1.8487-cp36-cp36m-manylinux1_x86_64.whl (14.0MB)\n",
            "\u001b[K     |████████████████████████████████| 14.0MB 341kB/s \n",
            "\u001b[?25hCollecting absl-py>=0.11\n",
            "\u001b[?25l  Downloading https://files.pythonhosted.org/packages/bc/58/0aa6fb779dc69cfc811df3398fcbeaeefbf18561b6e36b185df0782781cc/absl_py-0.11.0-py3-none-any.whl (127kB)\n",
            "\u001b[K     |████████████████████████████████| 133kB 46.8MB/s \n",
            "\u001b[?25hCollecting protobuf>=3.14.0\n",
            "\u001b[?25l  Downloading https://files.pythonhosted.org/packages/fe/fd/247ef25f5ec5f9acecfbc98ca3c6aaf66716cf52509aca9a93583d410493/protobuf-3.14.0-cp36-cp36m-manylinux1_x86_64.whl (1.0MB)\n",
            "\u001b[K     |████████████████████████████████| 1.0MB 39.2MB/s \n",
            "\u001b[?25hRequirement already satisfied: six in /usr/local/lib/python3.6/dist-packages (from absl-py>=0.11->ortools) (1.15.0)\n",
            "\u001b[31mERROR: tensorflow-metadata 0.27.0 has requirement absl-py<0.11,>=0.9, but you'll have absl-py 0.11.0 which is incompatible.\u001b[0m\n",
            "Installing collected packages: absl-py, protobuf, ortools\n",
            "  Found existing installation: absl-py 0.10.0\n",
            "    Uninstalling absl-py-0.10.0:\n",
            "      Successfully uninstalled absl-py-0.10.0\n",
            "  Found existing installation: protobuf 3.12.4\n",
            "    Uninstalling protobuf-3.12.4:\n",
            "      Successfully uninstalled protobuf-3.12.4\n",
            "Successfully installed absl-py-0.11.0 ortools-8.1.8487 protobuf-3.14.0\n"
          ],
          "name": "stdout"
        },
        {
          "output_type": "display_data",
          "data": {
            "application/vnd.colab-display-data+json": {
              "pip_warning": {
                "packages": [
                  "google"
                ]
              }
            }
          },
          "metadata": {
            "tags": []
          }
        }
      ]
    },
    {
      "cell_type": "code",
      "metadata": {
        "id": "JuoyPqghPHuY",
        "colab": {
          "base_uri": "https://localhost:8080/"
        },
        "outputId": "1dbce4c2-478c-4a07-8731-27bb29747721"
      },
      "source": [
        "# Copyright 2010-2018 Google LLC\n",
        "# Licensed under the Apache License, Version 2.0 (the \"License\");\n",
        "# you may not use this file except in compliance with the License.\n",
        "# You may obtain a copy of the License at\n",
        "#\n",
        "#     http://www.apache.org/licenses/LICENSE-2.0\n",
        "#\n",
        "# Unless required by applicable law or agreed to in writing, software\n",
        "# distributed under the License is distributed on an \"AS IS\" BASIS,\n",
        "# WITHOUT WARRANTIES OR CONDITIONS OF ANY KIND, either express or implied.\n",
        "# See the License for the specific language governing permissions and\n",
        "# limitations under the License.\n",
        "# [START program]\n",
        "\"\"\"Capacited Vehicles Routing Problem (CVRP).\"\"\"\n",
        "\n",
        "# [START import]\n",
        "from ortools.constraint_solver import routing_enums_pb2\n",
        "from ortools.constraint_solver import pywrapcp\n",
        "# [END import]\n",
        "\n",
        "\n",
        "# [START data_model]\n",
        "def create_data_model():\n",
        "    \"\"\"Stores the data for the problem.\"\"\"\n",
        "    data = {}\n",
        "    data['distance_matrix'] = [[ 0.        ,  0.58960333,  4.2383701 ,  8.02774556,  8.32925408,\n",
        "         9.25273012,  9.88868557, 11.07272647, 11.4304199 , 12.33900852,\n",
        "        12.90465359],\n",
        "       [ 0.58960333,  0.        ,  4.72922469,  8.57632794,  8.88362681,\n",
        "         9.81418988, 10.44417266, 11.618726  , 11.97434772, 12.87867052,\n",
        "        13.44133548],\n",
        "       [ 4.2383701 ,  4.72922469,  0.        ,  4.03095992,  4.38251463,\n",
        "         5.36284619,  5.91853717,  7.00939235,  7.35061367,  8.22904887,\n",
        "         8.7771992 ],\n",
        "       [ 8.02774556,  8.57632794,  4.03095992,  0.        ,  0.38439214,\n",
        "         1.36036158,  1.88952884,  3.04602758,  3.40684142,  4.32580776,\n",
        "         4.90114321],\n",
        "       [ 8.32925408,  8.88362681,  4.38251463,  0.38439214,  0.        ,\n",
        "         0.98641947,  1.56095371,  2.76716649,  3.1345218 ,  4.06314969,\n",
        "         4.64447147],\n",
        "       [ 9.25273012,  9.81418988,  5.36284619,  1.36036158,  0.98641947,\n",
        "         0.        ,  0.70537981,  1.98028231,  2.35127254,  3.28105142,\n",
        "         3.86716797],\n",
        "       [ 9.88868557, 10.44417266,  5.91853717,  1.88952884,  1.56095371,\n",
        "         0.70537981,  0.        ,  1.27508404,  1.64639425,  2.57736606,\n",
        "         3.16362734],\n",
        "       [11.07272647, 11.618726  ,  7.00939235,  3.04602758,  2.76716649,\n",
        "         1.98028231,  1.27508404,  0.        ,  0.37210671,  1.30542694,\n",
        "         1.89138359],\n",
        "       [11.4304199 , 11.97434772,  7.35061367,  3.40684142,  3.1345218 ,\n",
        "         2.35127254,  1.64639425,  0.37210671,  0.        ,  0.93347493,\n",
        "         1.51931021],\n",
        "       [12.33900852, 12.87867052,  8.22904887,  4.32580776,  4.06314969,\n",
        "         3.28105142,  2.57736606,  1.30542694,  0.93347493,  0.        ,\n",
        "         0.58627987],\n",
        "       [12.90465359, 13.44133548,  8.7771992 ,  4.90114321,  4.64447147,\n",
        "         3.86716797,  3.16362734,  1.89138359,  1.51931021,  0.58627987,\n",
        "         0.        ]]\n",
        "    # [START demands_capacities]\n",
        "    data['demands'] = [15, 0.3, 0.8, 0.3, 0.3, 0.3, 0.3, 0.3, 0.3, 0.3, 15]\n",
        "    data['vehicle_capacities'] = [15, 15]\n",
        "    # [END demands_capacities]\n",
        "    data['num_vehicles'] = 2\n",
        "    data['depot'] = 1\n",
        "    return data\n",
        "    # [END data_model]\n",
        "\n",
        "\n",
        "# [START solution_printer]\n",
        "def print_solution(data, manager, routing, solution):\n",
        "    \"\"\"Prints solution on console.\"\"\"\n",
        "    total_distance = 0\n",
        "    total_load = 0\n",
        "    for vehicle_id in range(data['num_vehicles']):\n",
        "        index = routing.Start(vehicle_id)\n",
        "        plan_output = 'Route for vehicle {}:\\n'.format(vehicle_id)\n",
        "        route_distance = 0\n",
        "        route_load = 0\n",
        "        while not routing.IsEnd(index):\n",
        "            node_index = manager.IndexToNode(index)\n",
        "            route_load += data['demands'][node_index]\n",
        "            plan_output += ' {0} Load({1}) -> '.format(node_index, route_load)\n",
        "            previous_index = index\n",
        "            index = solution.Value(routing.NextVar(index))\n",
        "            route_distance += routing.GetArcCostForVehicle(\n",
        "                previous_index, index, vehicle_id)\n",
        "        plan_output += ' {0} Load({1})\\n'.format(manager.IndexToNode(index),\n",
        "                                                 route_load)\n",
        "        plan_output += 'Distance of the route: {}m\\n'.format(route_distance)\n",
        "        plan_output += 'Load of the route: {}\\n'.format(route_load)\n",
        "        print(plan_output)\n",
        "        total_distance += route_distance\n",
        "        total_load += route_load\n",
        "    print('Total distance of all routes: {}m'.format(total_distance))\n",
        "    print('Total load of all routes: {}'.format(total_load))\n",
        "    # [END solution_printer]\n",
        "\n",
        "\n",
        "\"\"\"Solve the CVRP problem.\"\"\"\n",
        "# Instantiate the data problem.\n",
        "# [START data]\n",
        "data = create_data_model()\n",
        "# [END data]\n",
        "\n",
        "# Create the routing index manager.\n",
        "# [START index_manager]\n",
        "manager = pywrapcp.RoutingIndexManager(len(data['distance_matrix']),\n",
        "                                       data['num_vehicles'], data['depot'])\n",
        "# [END index_manager]\n",
        "\n",
        "# Create Routing Model.\n",
        "# [START routing_model]\n",
        "routing = pywrapcp.RoutingModel(manager)\n",
        "\n",
        "# [END routing_model]\n",
        "\n",
        "# Create and register a transit callback.\n",
        "# [START transit_callback]\n",
        "def distance_callback(from_index, to_index):\n",
        "    \"\"\"Returns the distance between the two nodes.\"\"\"\n",
        "    # Convert from routing variable Index to distance matrix NodeIndex.\n",
        "    from_node = manager.IndexToNode(from_index)\n",
        "    to_node = manager.IndexToNode(to_index)\n",
        "    return data['distance_matrix'][from_node][to_node]\n",
        "\n",
        "transit_callback_index = routing.RegisterTransitCallback(distance_callback)\n",
        "# [END transit_callback]\n",
        "\n",
        "# Define cost of each arc.\n",
        "# [START arc_cost]\n",
        "routing.SetArcCostEvaluatorOfAllVehicles(transit_callback_index)\n",
        "\n",
        "# [END arc_cost]\n",
        "\n",
        "# Add Capacity constraint.\n",
        "# [START capacity_constraint]\n",
        "def demand_callback(from_index):\n",
        "    \"\"\"Returns the demand of the node.\"\"\"\n",
        "    # Convert from routing variable Index to demands NodeIndex.\n",
        "    from_node = manager.IndexToNode(from_index)\n",
        "    return data['demands'][from_node]\n",
        "\n",
        "demand_callback_index = routing.RegisterUnaryTransitCallback(\n",
        "    demand_callback)\n",
        "routing.AddDimensionWithVehicleCapacity(\n",
        "    demand_callback_index,\n",
        "    0,  # null capacity slack\n",
        "    data['vehicle_capacities'],  # vehicle maximum capacities\n",
        "    True,  # start cumul to zero\n",
        "    'Capacity')\n",
        "# [END capacity_constraint]\n",
        "\n",
        "# Setting first solution heuristic.\n",
        "# [START parameters]\n",
        "search_parameters = pywrapcp.DefaultRoutingSearchParameters()\n",
        "search_parameters.first_solution_strategy = (\n",
        "    routing_enums_pb2.FirstSolutionStrategy.PATH_CHEAPEST_ARC)\n",
        "search_parameters.local_search_metaheuristic = (\n",
        "    routing_enums_pb2.LocalSearchMetaheuristic.GUIDED_LOCAL_SEARCH)\n",
        "search_parameters.time_limit.FromSeconds(1)\n",
        "# [END parameters]\n",
        "\n",
        "# Solve the problem.\n",
        "# [START solve]\n",
        "solution = routing.SolveWithParameters(search_parameters)\n",
        "# [END solve]\n",
        "\n",
        "# Print solution on console.\n",
        "# [START print_solution]\n",
        "if solution:\n",
        "    print_solution(data, manager, routing, solution)\n",
        "# [END print_solution]\n",
        "\n"
      ],
      "execution_count": 2,
      "outputs": [
        {
          "output_type": "stream",
          "text": [
            "Route for vehicle 0:\n",
            " 1 Load(0.3) ->  2 Load(1.1) ->  3 Load(1.4000000000000001) ->  6 Load(1.7000000000000002) ->  8 Load(2.0) ->  9 Load(2.3) ->  10 Load(17.3) ->  7 Load(17.6) ->  5 Load(17.900000000000002) ->  4 Load(18.200000000000003) ->  1 Load(18.200000000000003)\n",
            "Distance of the route: 20m\n",
            "Load of the route: 18.200000000000003\n",
            "\n",
            "Route for vehicle 1:\n",
            " 1 Load(0.3) ->  0 Load(15.3) ->  1 Load(15.3)\n",
            "Distance of the route: 0m\n",
            "Load of the route: 15.3\n",
            "\n",
            "Total distance of all routes: 20m\n",
            "Total load of all routes: 33.5\n"
          ],
          "name": "stdout"
        }
      ]
    }
  ]
}