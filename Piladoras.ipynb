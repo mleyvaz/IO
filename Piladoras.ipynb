{
  "nbformat": 4,
  "nbformat_minor": 0,
  "metadata": {
    "colab": {
      "name": "Piladoras.ipynb",
      "provenance": [],
      "include_colab_link": true
    },
    "kernelspec": {
      "name": "python3",
      "display_name": "Python 3"
    }
  },
  "cells": [
    {
      "cell_type": "markdown",
      "metadata": {
        "id": "view-in-github",
        "colab_type": "text"
      },
      "source": [
        "<a href=\"https://colab.research.google.com/github/mleyvaz/IO/blob/main/Piladoras.ipynb\" target=\"_parent\"><img src=\"https://colab.research.google.com/assets/colab-badge.svg\" alt=\"Open In Colab\"/></a>"
      ]
    },
    {
      "cell_type": "code",
      "metadata": {
        "colab": {
          "base_uri": "https://localhost:8080/"
        },
        "id": "vc0G0n-pxViz",
        "outputId": "b4d0a180-8ca0-4e3a-cd01-fa9780bbef9b"
      },
      "source": [
        "!pip install geopandas"
      ],
      "execution_count": 1,
      "outputs": [
        {
          "output_type": "stream",
          "text": [
            "Collecting geopandas\n",
            "\u001b[?25l  Downloading https://files.pythonhosted.org/packages/2a/9f/e8a440a993e024c0d3d4e5c7d3346367c50c9a1a3d735caf5ee3bde0aab1/geopandas-0.8.2-py2.py3-none-any.whl (962kB)\n",
            "\u001b[K     |████████████████████████████████| 972kB 5.6MB/s \n",
            "\u001b[?25hRequirement already satisfied: shapely in /usr/local/lib/python3.6/dist-packages (from geopandas) (1.7.1)\n",
            "Collecting fiona\n",
            "\u001b[?25l  Downloading https://files.pythonhosted.org/packages/37/94/4910fd55246c1d963727b03885ead6ef1cd3748a465f7b0239ab25dfc9a3/Fiona-1.8.18-cp36-cp36m-manylinux1_x86_64.whl (14.8MB)\n",
            "\u001b[K     |████████████████████████████████| 14.8MB 304kB/s \n",
            "\u001b[?25hRequirement already satisfied: pandas>=0.23.0 in /usr/local/lib/python3.6/dist-packages (from geopandas) (1.1.5)\n",
            "Collecting pyproj>=2.2.0\n",
            "\u001b[?25l  Downloading https://files.pythonhosted.org/packages/e4/ab/280e80a67cfc109d15428c0ec56391fc03a65857b7727cf4e6e6f99a4204/pyproj-3.0.0.post1-cp36-cp36m-manylinux2010_x86_64.whl (6.4MB)\n",
            "\u001b[K     |████████████████████████████████| 6.5MB 44.7MB/s \n",
            "\u001b[?25hRequirement already satisfied: click<8,>=4.0 in /usr/local/lib/python3.6/dist-packages (from fiona->geopandas) (7.1.2)\n",
            "Requirement already satisfied: six>=1.7 in /usr/local/lib/python3.6/dist-packages (from fiona->geopandas) (1.15.0)\n",
            "Collecting cligj>=0.5\n",
            "  Downloading https://files.pythonhosted.org/packages/42/1e/947eadf10d6804bf276eb8a038bd5307996dceaaa41cfd21b7a15ec62f5d/cligj-0.7.1-py3-none-any.whl\n",
            "Requirement already satisfied: certifi in /usr/local/lib/python3.6/dist-packages (from fiona->geopandas) (2020.12.5)\n",
            "Requirement already satisfied: attrs>=17 in /usr/local/lib/python3.6/dist-packages (from fiona->geopandas) (20.3.0)\n",
            "Collecting munch\n",
            "  Downloading https://files.pythonhosted.org/packages/cc/ab/85d8da5c9a45e072301beb37ad7f833cd344e04c817d97e0cc75681d248f/munch-2.5.0-py2.py3-none-any.whl\n",
            "Collecting click-plugins>=1.0\n",
            "  Downloading https://files.pythonhosted.org/packages/e9/da/824b92d9942f4e472702488857914bdd50f73021efea15b4cad9aca8ecef/click_plugins-1.1.1-py2.py3-none-any.whl\n",
            "Requirement already satisfied: numpy>=1.15.4 in /usr/local/lib/python3.6/dist-packages (from pandas>=0.23.0->geopandas) (1.19.5)\n",
            "Requirement already satisfied: python-dateutil>=2.7.3 in /usr/local/lib/python3.6/dist-packages (from pandas>=0.23.0->geopandas) (2.8.1)\n",
            "Requirement already satisfied: pytz>=2017.2 in /usr/local/lib/python3.6/dist-packages (from pandas>=0.23.0->geopandas) (2018.9)\n",
            "Installing collected packages: cligj, munch, click-plugins, fiona, pyproj, geopandas\n",
            "Successfully installed click-plugins-1.1.1 cligj-0.7.1 fiona-1.8.18 geopandas-0.8.2 munch-2.5.0 pyproj-3.0.0.post1\n"
          ],
          "name": "stdout"
        }
      ]
    },
    {
      "cell_type": "code",
      "metadata": {
        "id": "dayBT66QuZmO"
      },
      "source": [
        "import matplotlib.pyplot as plt\r\n",
        "import pandas as pd\r\n",
        "import geopandas as gpd\r\n",
        "from shapely.geometry import Point, Polygon"
      ],
      "execution_count": 3,
      "outputs": []
    },
    {
      "cell_type": "code",
      "metadata": {
        "colab": {
          "base_uri": "https://localhost:8080/"
        },
        "id": "zpLo62jWuOV_",
        "outputId": "5e377e65-b07c-4163-ce9d-0faf58e2ee43"
      },
      "source": [
        "df = pd.read_csv('https://raw.githubusercontent.com/mleyvaz/IO/main/piladoras.csv')\r\n",
        "# summarize shape\r\n",
        "print(df.shape)\r\n",
        "# show first few rows\r\n",
        "print(df.head())\r\n",
        "de=df['Producción Lbs']"
      ],
      "execution_count": 4,
      "outputs": [
        {
          "output_type": "stream",
          "text": [
            "(11, 4)\n",
            "                    Piladora   Latitud   Longitud Producción Lbs\n",
            "0    Piladora Gloria Matilde -1.877144 -79.986313         15,486\n",
            "1             Piladora Yanco -1.882472 -79.983788             30\n",
            "2       Piladora Santa Clara -1.835461 -79.978638             30\n",
            "3      Piladora Katty Nicolk -1.796984 -79.990654             30\n",
            "4  Piladora Voluntad de Dios -1.794140 -79.993240             30\n"
          ],
          "name": "stdout"
        }
      ]
    },
    {
      "cell_type": "code",
      "metadata": {
        "colab": {
          "base_uri": "https://localhost:8080/"
        },
        "id": "XlbBYLRtxkxu",
        "outputId": "c380b805-d6ba-4303-f540-d112eeb72be8"
      },
      "source": [
        "crs={'init':'epsg:4326'}\r\n",
        "geometry=[Point(xy) for xy in zip(df[\"Longitud\"], df[\"Latitud\"])]\r\n",
        "geodata=gpd.GeoDataFrame(df,crs=crs, geometry=geometry)\r\n",
        "#https://www.linkedin.com/pulse/geopandas-plotting-data-points-map-using-python-r%C3%A9gis-nisengwe/"
      ],
      "execution_count": 5,
      "outputs": [
        {
          "output_type": "stream",
          "text": [
            "/usr/local/lib/python3.6/dist-packages/pyproj/crs/crs.py:53: FutureWarning: '+init=<authority>:<code>' syntax is deprecated. '<authority>:<code>' is the preferred initialization method. When making the change, be mindful of axis order changes: https://pyproj4.github.io/pyproj/stable/gotchas.html#axis-order-changes-in-proj-6\n",
            "  return _prepare_from_string(\" \".join(pjargs))\n"
          ],
          "name": "stderr"
        }
      ]
    },
    {
      "cell_type": "code",
      "metadata": {
        "colab": {
          "base_uri": "https://localhost:8080/",
          "height": 295
        },
        "id": "y1Iyp56L3kxi",
        "outputId": "3dc7b131-2662-49ea-e3d7-4a1483461209"
      },
      "source": [
        "geodata.plot()"
      ],
      "execution_count": 6,
      "outputs": [
        {
          "output_type": "execute_result",
          "data": {
            "text/plain": [
              "<matplotlib.axes._subplots.AxesSubplot at 0x7fc6d9dafe48>"
            ]
          },
          "metadata": {
            "tags": []
          },
          "execution_count": 6
        },
        {
          "output_type": "display_data",
          "data": {
            "image/png": "[encoded data removed]",
            "text/plain": [
              "<Figure size 432x288 with 1 Axes>"
            ]
          },
          "metadata": {
            "tags": [],
            "needs_background": "light"
          }
        }
      ]
    },
    {
      "cell_type": "code",
      "metadata": {
        "id": "zew7-WNz31u1"
      },
      "source": [
        "# rwanda_shapefile = gpd.read_file(r'rwanda_shapefile.shp')\r\n"
      ],
      "execution_count": null,
      "outputs": []
    },
    {
      "cell_type": "code",
      "metadata": {
        "colab": {
          "base_uri": "https://localhost:8080/",
          "height": 408
        },
        "id": "1up52h6a4f7k",
        "outputId": "88badf5b-7c4b-4280-d619-67cf14493ca2"
      },
      "source": [
        " from scipy.spatial.distance import squareform, pdist\r\n",
        " data=df\r\n",
        "for i in df[\"Piladora\"]:\r\n",
        "    for j in df[\"Piladora\"]:\r\n",
        "        row = df[df[\"Piladora\"] == j][[\"Latitud\", \"Longitud\"]]\r\n",
        "        latitude = row[\"Latitud\"].tolist()[0]\r\n",
        "        longitude = row[\"Longitud\"].tolist()[0]\r\n",
        "        df.loc[df['Piladora'] == i, j] = ((df[\"Latitud\"] - latitude)**2 + (df[\"Longitud\"] - longitude)**2)**0.5\r\n",
        "\r\n",
        "df = df.drop([\"Piladora\", \"Latitud\", \"Longitud\",\"Producción Lbs\"], axis=1)\r\n",
        "df.head()\r\n"
      ],
      "execution_count": 7,
      "outputs": [
        {
          "output_type": "execute_result",
          "data": {
            "text/html": [
              "<div>\n",
              "<style scoped>\n",
              "    .dataframe tbody tr th:only-of-type {\n",
              "        vertical-align: middle;\n",
              "    }\n",
              "\n",
              "    .dataframe tbody tr th {\n",
              "        vertical-align: top;\n",
              "    }\n",
              "\n",
              "    .dataframe thead th {\n",
              "        text-align: right;\n",
              "    }\n",
              "</style>\n",
              "<table border=\"1\" class=\"dataframe\">\n",
              "  <thead>\n",
              "    <tr style=\"text-align: right;\">\n",
              "      <th></th>\n",
              "      <th>geometry</th>\n",
              "      <th>Piladora Gloria Matilde</th>\n",
              "      <th>Piladora Yanco</th>\n",
              "      <th>Piladora Santa Clara</th>\n",
              "      <th>Piladora Katty Nicolk</th>\n",
              "      <th>Piladora Voluntad de Dios</th>\n",
              "      <th>Piladora la dorada</th>\n",
              "      <th>Piladora Nacho</th>\n",
              "      <th>Piladora Brito y Es´pinoza</th>\n",
              "      <th>Piladora Mary Joe</th>\n",
              "      <th>Piladora Fatima</th>\n",
              "      <th>Piladora Santa Lucia</th>\n",
              "    </tr>\n",
              "  </thead>\n",
              "  <tbody>\n",
              "    <tr>\n",
              "      <th>0</th>\n",
              "      <td>POINT (-79.98631 -1.87714)</td>\n",
              "      <td>0.000000</td>\n",
              "      <td>0.005896</td>\n",
              "      <td>0.042384</td>\n",
              "      <td>0.080277</td>\n",
              "      <td>0.083293</td>\n",
              "      <td>0.092527</td>\n",
              "      <td>0.098887</td>\n",
              "      <td>0.110727</td>\n",
              "      <td>0.114304</td>\n",
              "      <td>0.123390</td>\n",
              "      <td>0.129047</td>\n",
              "    </tr>\n",
              "    <tr>\n",
              "      <th>1</th>\n",
              "      <td>POINT (-79.98379 -1.88247)</td>\n",
              "      <td>0.005896</td>\n",
              "      <td>0.000000</td>\n",
              "      <td>0.047292</td>\n",
              "      <td>0.085763</td>\n",
              "      <td>0.088836</td>\n",
              "      <td>0.098142</td>\n",
              "      <td>0.104442</td>\n",
              "      <td>0.116187</td>\n",
              "      <td>0.119743</td>\n",
              "      <td>0.128787</td>\n",
              "      <td>0.134413</td>\n",
              "    </tr>\n",
              "    <tr>\n",
              "      <th>2</th>\n",
              "      <td>POINT (-79.97864 -1.83546)</td>\n",
              "      <td>0.042384</td>\n",
              "      <td>0.047292</td>\n",
              "      <td>0.000000</td>\n",
              "      <td>0.040310</td>\n",
              "      <td>0.043825</td>\n",
              "      <td>0.053628</td>\n",
              "      <td>0.059185</td>\n",
              "      <td>0.070094</td>\n",
              "      <td>0.073506</td>\n",
              "      <td>0.082290</td>\n",
              "      <td>0.087772</td>\n",
              "    </tr>\n",
              "    <tr>\n",
              "      <th>3</th>\n",
              "      <td>POINT (-79.99065 -1.79698)</td>\n",
              "      <td>0.080277</td>\n",
              "      <td>0.085763</td>\n",
              "      <td>0.040310</td>\n",
              "      <td>0.000000</td>\n",
              "      <td>0.003844</td>\n",
              "      <td>0.013604</td>\n",
              "      <td>0.018895</td>\n",
              "      <td>0.030460</td>\n",
              "      <td>0.034068</td>\n",
              "      <td>0.043258</td>\n",
              "      <td>0.049011</td>\n",
              "    </tr>\n",
              "    <tr>\n",
              "      <th>4</th>\n",
              "      <td>POINT (-79.99324 -1.79414)</td>\n",
              "      <td>0.083293</td>\n",
              "      <td>0.088836</td>\n",
              "      <td>0.043825</td>\n",
              "      <td>0.003844</td>\n",
              "      <td>0.000000</td>\n",
              "      <td>0.009864</td>\n",
              "      <td>0.015610</td>\n",
              "      <td>0.027672</td>\n",
              "      <td>0.031345</td>\n",
              "      <td>0.040631</td>\n",
              "      <td>0.046445</td>\n",
              "    </tr>\n",
              "  </tbody>\n",
              "</table>\n",
              "</div>"
            ],
            "text/plain": [
              "                     geometry  ...  Piladora Santa Lucia\n",
              "0  POINT (-79.98631 -1.87714)  ...              0.129047\n",
              "1  POINT (-79.98379 -1.88247)  ...              0.134413\n",
              "2  POINT (-79.97864 -1.83546)  ...              0.087772\n",
              "3  POINT (-79.99065 -1.79698)  ...              0.049011\n",
              "4  POINT (-79.99324 -1.79414)  ...              0.046445\n",
              "\n",
              "[5 rows x 12 columns]"
            ]
          },
          "metadata": {
            "tags": []
          },
          "execution_count": 7
        }
      ]
    },
    {
      "cell_type": "code",
      "metadata": {
        "colab": {
          "base_uri": "https://localhost:8080/"
        },
        "id": "0sa6_qtu8X8I",
        "outputId": "19f66ede-f82f-4458-f1aa-8f92277323db"
      },
      "source": [
        "pip install ortools"
      ],
      "execution_count": 9,
      "outputs": [
        {
          "output_type": "stream",
          "text": [
            "Requirement already satisfied: ortools in /usr/local/lib/python3.6/dist-packages (8.1.8487)\n",
            "Requirement already satisfied: protobuf>=3.14.0 in /usr/local/lib/python3.6/dist-packages (from ortools) (3.14.0)\n",
            "Requirement already satisfied: absl-py>=0.11 in /usr/local/lib/python3.6/dist-packages (from ortools) (0.11.0)\n",
            "Requirement already satisfied: six>=1.9 in /usr/local/lib/python3.6/dist-packages (from protobuf>=3.14.0->ortools) (1.15.0)\n"
          ],
          "name": "stdout"
        }
      ]
    },
    {
      "cell_type": "code",
      "metadata": {
        "id": "7uegYr8H8zCC"
      },
      "source": [
        "\"\"\"Capacitated Vehicle Routing Problem with Time Windows (CVRPTW).\r\n",
        "\"\"\"\r\n",
        "from __future__ import print_function\r\n",
        "from ortools.constraint_solver import pywrapcp\r\n",
        "from ortools.constraint_solver import routing_enums_pb2"
      ],
      "execution_count": 8,
      "outputs": []
    },
    {
      "cell_type": "code",
      "metadata": {
        "id": "sIjJeMnF-qr9"
      },
      "source": [
        "# Copyright 2010-2018 Google LLC\r\n",
        "# Licensed under the Apache License, Version 2.0 (the \"License\");\r\n",
        "# you may not use this file except in compliance with the License.\r\n",
        "# You may obtain a copy of the License at\r\n",
        "#\r\n",
        "#     http://www.apache.org/licenses/LICENSE-2.0\r\n",
        "#\r\n",
        "# Unless required by applicable law or agreed to in writing, software\r\n",
        "# distributed under the License is distributed on an \"AS IS\" BASIS,\r\n",
        "# WITHOUT WARRANTIES OR CONDITIONS OF ANY KIND, either express or implied.\r\n",
        "# See the License for the specific language governing permissions and\r\n",
        "# limitations under the License.\r\n",
        "# [START program]\r\n",
        "\"\"\"Capacited Vehicles Routing Problem (CVRP).\"\"\"\r\n",
        "\r\n",
        "# [START import]\r\n",
        "from ortools.constraint_solver import routing_enums_pb2\r\n",
        "from ortools.constraint_solver import pywrapcp\r\n",
        "# [END import]\r\n",
        "\r\n",
        "\r\n",
        "# [START data_model]\r\n",
        "def create_data_model():\r\n",
        "    \"\"\"Stores the data for the problem.\"\"\"\r\n",
        "    data = {}\r\n",
        "    data['distance_matrix'] = df.values\r\n",
        "    # [START demands_capacities]\r\n",
        "    data['demands'] = [30, 30,30,30,30,30,30,30,30,30,30]\r\n",
        "    data['vehicle_capacities'] = [10,10]\r\n",
        "    # [END demands_capacities]\r\n",
        "    data['num_vehicles'] = 4\r\n",
        "    data['depot'] = 0\r\n",
        "    return data\r\n",
        "    # [END data_model]\r\n",
        "\r\n",
        "\r\n",
        "# [START solution_printer]\r\n",
        "def print_solution(data, manager, routing, solution):\r\n",
        "    \"\"\"Prints solution on console.\"\"\"\r\n",
        "    total_distance = 0\r\n",
        "    total_load = 0\r\n",
        "    for vehicle_id in range(data['num_vehicles']):\r\n",
        "        index = routing.Start(vehicle_id)\r\n",
        "        plan_output = 'Route for vehicle {}:\\n'.format(vehicle_id)\r\n",
        "        route_distance = 0\r\n",
        "        route_load = 0\r\n",
        "        while not routing.IsEnd(index):\r\n",
        "            node_index = manager.IndexToNode(index)\r\n",
        "            route_load += data['demands'][node_index]\r\n",
        "            plan_output += ' {0} Load({1}) -> '.format(node_index, route_load)\r\n",
        "            previous_index = index\r\n",
        "            index = solution.Value(routing.NextVar(index))\r\n",
        "            route_distance += routing.GetArcCostForVehicle(\r\n",
        "                previous_index, index, vehicle_id)\r\n",
        "        plan_output += ' {0} Load({1})\\n'.format(manager.IndexToNode(index),\r\n",
        "                                                 route_load)\r\n",
        "        plan_output += 'Distance of the route: {}m\\n'.format(route_distance)\r\n",
        "        plan_output += 'Load of the route: {}\\n'.format(route_load)\r\n",
        "        print(plan_output)\r\n",
        "        total_distance += route_distance\r\n",
        "        total_load += route_load\r\n",
        "    print('Total distance of all routes: {}m'.format(total_distance))\r\n",
        "    print('Total load of all routes: {}'.format(total_load))\r\n",
        "    # [END solution_printer]\r\n",
        "\r\n",
        "\r\n",
        "\"\"\"Solve the CVRP problem.\"\"\"\r\n",
        "# Instantiate the data problem.\r\n",
        "# [START data]\r\n",
        "data = create_data_model()\r\n",
        "# [END data]\r\n",
        "\r\n",
        "# Create the routing index manager.\r\n",
        "# [START index_manager]\r\n",
        "manager = pywrapcp.RoutingIndexManager(len(data['distance_matrix']),\r\n",
        "                                       data['num_vehicles'], data['depot'])\r\n",
        "# [END index_manager]\r\n",
        "\r\n",
        "# Create Routing Model.\r\n",
        "# [START routing_model]\r\n",
        "routing = pywrapcp.RoutingModel(manager)\r\n",
        "\r\n",
        "# [END routing_model]\r\n",
        "\r\n",
        "# Create and register a transit callback.\r\n",
        "# [START transit_callback]\r\n",
        "def distance_callback(from_index, to_index):\r\n",
        "    \"\"\"Returns the distance between the two nodes.\"\"\"\r\n",
        "    # Convert from routing variable Index to distance matrix NodeIndex.\r\n",
        "    from_node = manager.IndexToNode(from_index)\r\n",
        "    to_node = manager.IndexToNode(to_index)\r\n",
        "    return data['distance_matrix'][from_node][to_node]\r\n",
        "\r\n",
        "transit_callback_index = routing.RegisterTransitCallback(distance_callback)\r\n",
        "# [END transit_callback]\r\n",
        "\r\n",
        "# Define cost of each arc.\r\n",
        "# [START arc_cost]\r\n",
        "routing.SetArcCostEvaluatorOfAllVehicles(transit_callback_index)\r\n",
        "\r\n",
        "# [END arc_cost]\r\n",
        "\r\n",
        "# Add Capacity constraint.\r\n",
        "# [START capacity_constraint]\r\n",
        "def demand_callback(from_index):\r\n",
        "    \"\"\"Returns the demand of the node.\"\"\"\r\n",
        "    # Convert from routing variable Index to demands NodeIndex.\r\n",
        "    from_node = manager.IndexToNode(from_index)\r\n",
        "    return data['demands'][from_node]\r\n",
        "\r\n",
        "demand_callback_index = routing.RegisterUnaryTransitCallback(\r\n",
        "    demand_callback)\r\n",
        "routing.AddDimensionWithVehicleCapacity(\r\n",
        "    demand_callback_index,\r\n",
        "    0,  # null capacity slack\r\n",
        "    data['vehicle_capacities'],  # vehicle maximum capacities\r\n",
        "    True,  # start cumul to zero\r\n",
        "    'Capacity')\r\n",
        "# [END capacity_constraint]\r\n",
        "\r\n",
        "# Setting first solution heuristic.\r\n",
        "# [START parameters]\r\n",
        "search_parameters = pywrapcp.DefaultRoutingSearchParameters()\r\n",
        "search_parameters.first_solution_strategy = (\r\n",
        "    routing_enums_pb2.FirstSolutionStrategy.PATH_CHEAPEST_ARC)\r\n",
        "search_parameters.local_search_metaheuristic = (\r\n",
        "    routing_enums_pb2.LocalSearchMetaheuristic.GUIDED_LOCAL_SEARCH)\r\n",
        "search_parameters.time_limit.FromSeconds(1)\r\n",
        "# [END parameters]\r\n",
        "\r\n",
        "# Solve the problem.\r\n",
        "# [START solve]\r\n",
        "solution = routing.SolveWithParameters(search_parameters)\r\n",
        "# [END solve]\r\n",
        "\r\n",
        "# Print solution on console.\r\n",
        "# [START print_solution]\r\n",
        "if solution:\r\n",
        "    print_solution(data, manager, routing, solution)\r\n",
        "# [END print_solution]"
      ],
      "execution_count": null,
      "outputs": []
    },
    {
      "cell_type": "markdown",
      "metadata": {
        "id": "my1pbxW0HT7P"
      },
      "source": [
        ""
      ]
    },
    {
      "cell_type": "code",
      "metadata": {
        "id": "fuAvhUiaHUaS"
      },
      "source": [
        ""
      ],
      "execution_count": null,
      "outputs": []
    }
  ]
}