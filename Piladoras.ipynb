{
  "nbformat": 4,
  "nbformat_minor": 0,
  "metadata": {
    "colab": {
      "name": "Piladoras.ipynb",
      "provenance": [],
      "include_colab_link": true
    },
    "kernelspec": {
      "name": "python3",
      "display_name": "Python 3"
    }
  },
  "cells": [
    {
      "cell_type": "markdown",
      "metadata": {
        "id": "view-in-github",
        "colab_type": "text"
      },
      "source": [
        "<a href=\"https://colab.research.google.com/github/mleyvaz/IO/blob/main/Piladoras.ipynb\" target=\"_parent\"><img src=\"https://colab.research.google.com/assets/colab-badge.svg\" alt=\"Open In Colab\"/></a>"
      ]
    },
    {
      "cell_type": "code",
      "metadata": {
        "colab": {
          "base_uri": "https://localhost:8080/"
        },
        "id": "vc0G0n-pxViz",
        "outputId": "d5ff1162-71c4-45f2-a04e-7bcb247f95ea"
      },
      "source": [
        "!pip install geopandas"
      ],
      "execution_count": 1,
      "outputs": [
        {
          "output_type": "stream",
          "text": [
            "Collecting geopandas\n",
            "\u001b[?25l  Downloading https://files.pythonhosted.org/packages/d7/bf/e9cefb69d39155d122b6ddca53893b61535fa6ffdad70bf5ef708977f53f/geopandas-0.9.0-py2.py3-none-any.whl (994kB)\n",
            "\u001b[K     |████████████████████████████████| 1.0MB 5.3MB/s \n",
            "\u001b[?25hCollecting fiona>=1.8\n",
            "\u001b[?25l  Downloading https://files.pythonhosted.org/packages/47/c2/67d1d0acbaaee3b03e5e22e3b96c33219cb5dd392531c9ff9cee7c2eb3e4/Fiona-1.8.18-cp37-cp37m-manylinux1_x86_64.whl (14.8MB)\n",
            "\u001b[K     |████████████████████████████████| 14.8MB 505kB/s \n",
            "\u001b[?25hCollecting pyproj>=2.2.0\n",
            "\u001b[?25l  Downloading https://files.pythonhosted.org/packages/05/0c/d7c2c7c370ea5368b813a44e772247ed1a461dc47de70c5d02e079abc7e0/pyproj-3.0.0.post1-cp37-cp37m-manylinux2010_x86_64.whl (6.4MB)\n",
            "\u001b[K     |████████████████████████████████| 6.5MB 49.4MB/s \n",
            "\u001b[?25hRequirement already satisfied: pandas>=0.24.0 in /usr/local/lib/python3.7/dist-packages (from geopandas) (1.1.5)\n",
            "Requirement already satisfied: shapely>=1.6 in /usr/local/lib/python3.7/dist-packages (from geopandas) (1.7.1)\n",
            "Collecting munch\n",
            "  Downloading https://files.pythonhosted.org/packages/cc/ab/85d8da5c9a45e072301beb37ad7f833cd344e04c817d97e0cc75681d248f/munch-2.5.0-py2.py3-none-any.whl\n",
            "Collecting click-plugins>=1.0\n",
            "  Downloading https://files.pythonhosted.org/packages/e9/da/824b92d9942f4e472702488857914bdd50f73021efea15b4cad9aca8ecef/click_plugins-1.1.1-py2.py3-none-any.whl\n",
            "Requirement already satisfied: certifi in /usr/local/lib/python3.7/dist-packages (from fiona>=1.8->geopandas) (2020.12.5)\n",
            "Requirement already satisfied: six>=1.7 in /usr/local/lib/python3.7/dist-packages (from fiona>=1.8->geopandas) (1.15.0)\n",
            "Requirement already satisfied: click<8,>=4.0 in /usr/local/lib/python3.7/dist-packages (from fiona>=1.8->geopandas) (7.1.2)\n",
            "Collecting cligj>=0.5\n",
            "  Downloading https://files.pythonhosted.org/packages/42/1e/947eadf10d6804bf276eb8a038bd5307996dceaaa41cfd21b7a15ec62f5d/cligj-0.7.1-py3-none-any.whl\n",
            "Requirement already satisfied: attrs>=17 in /usr/local/lib/python3.7/dist-packages (from fiona>=1.8->geopandas) (20.3.0)\n",
            "Requirement already satisfied: python-dateutil>=2.7.3 in /usr/local/lib/python3.7/dist-packages (from pandas>=0.24.0->geopandas) (2.8.1)\n",
            "Requirement already satisfied: numpy>=1.15.4 in /usr/local/lib/python3.7/dist-packages (from pandas>=0.24.0->geopandas) (1.19.5)\n",
            "Requirement already satisfied: pytz>=2017.2 in /usr/local/lib/python3.7/dist-packages (from pandas>=0.24.0->geopandas) (2018.9)\n",
            "Installing collected packages: munch, click-plugins, cligj, fiona, pyproj, geopandas\n",
            "Successfully installed click-plugins-1.1.1 cligj-0.7.1 fiona-1.8.18 geopandas-0.9.0 munch-2.5.0 pyproj-3.0.0.post1\n"
          ],
          "name": "stdout"
        }
      ]
    },
    {
      "cell_type": "code",
      "metadata": {
        "id": "dayBT66QuZmO"
      },
      "source": [
        "import matplotlib.pyplot as plt\r\n",
        "import pandas as pd\r\n",
        "import geopandas as gpd\r\n",
        "from shapely.geometry import Point, Polygon"
      ],
      "execution_count": 2,
      "outputs": []
    },
    {
      "cell_type": "code",
      "metadata": {
        "colab": {
          "base_uri": "https://localhost:8080/"
        },
        "id": "zpLo62jWuOV_",
        "outputId": "6aa58ba3-b76e-4777-a6ef-da41d33f96c3"
      },
      "source": [
        "df = pd.read_csv('https://raw.githubusercontent.com/mleyvaz/IO/main/piladoras.csv')\r\n",
        "# summarize shape\r\n",
        "print(df.shape)\r\n",
        "# show first few rows\r\n",
        "print(df.head())\r\n",
        "de=df['Producción Lbs']"
      ],
      "execution_count": 3,
      "outputs": [
        {
          "output_type": "stream",
          "text": [
            "(11, 4)\n",
            "                    Piladora   Latitud   Longitud Producción Lbs\n",
            "0    Piladora Gloria Matilde -1.877144 -79.986313         15,486\n",
            "1             Piladora Yanco -1.882472 -79.983788             30\n",
            "2       Piladora Santa Clara -1.835461 -79.978638             30\n",
            "3      Piladora Katty Nicolk -1.796984 -79.990654             30\n",
            "4  Piladora Voluntad de Dios -1.794140 -79.993240             30\n"
          ],
          "name": "stdout"
        }
      ]
    },
    {
      "cell_type": "code",
      "metadata": {
        "colab": {
          "base_uri": "https://localhost:8080/"
        },
        "id": "XlbBYLRtxkxu",
        "outputId": "9f0e16a6-79e2-42e8-f682-1309076f8838"
      },
      "source": [
        "crs={'init':'epsg:4326'}\r\n",
        "geometry=[Point(xy) for xy in zip(df[\"Longitud\"], df[\"Latitud\"])]\r\n",
        "geodata=gpd.GeoDataFrame(df,crs=crs, geometry=geometry)\r\n",
        "#https://www.linkedin.com/pulse/geopandas-plotting-data-points-map-using-python-r%C3%A9gis-nisengwe/"
      ],
      "execution_count": 4,
      "outputs": [
        {
          "output_type": "stream",
          "text": [
            "/usr/local/lib/python3.7/dist-packages/pyproj/crs/crs.py:53: FutureWarning: '+init=<authority>:<code>' syntax is deprecated. '<authority>:<code>' is the preferred initialization method. When making the change, be mindful of axis order changes: https://pyproj4.github.io/pyproj/stable/gotchas.html#axis-order-changes-in-proj-6\n",
            "  return _prepare_from_string(\" \".join(pjargs))\n"
          ],
          "name": "stderr"
        }
      ]
    },
    {
      "cell_type": "code",
      "metadata": {
        "colab": {
          "base_uri": "https://localhost:8080/",
          "height": 689
        },
        "id": "y1Iyp56L3kxi",
        "outputId": "b52d7e9c-9665-4f8d-c05a-c59828962987"
      },
      "source": [
        "\r\n",
        "locations = df[['Latitud', 'Longitud']]\r\n",
        "locations = locations.values.tolist()\r\n",
        "import folium\r\n",
        "ec_map = folium.Map(location=[-1.831239, -78.183403], zoom_start=7, tiles='cartodbpositron') \r\n",
        "for point in range(0, len(locations )):\r\n",
        "    folium.Marker(locations[point], popup=df['Piladora'][point]).add_to(ec_map)\r\n",
        "ec_map\r\n"
      ],
      "execution_count": 26,
      "outputs": [
        {
          "output_type": "execute_result",
          "data": {
            "text/html": [
              "<div style=\"width:100%;\"><div style=\"position:relative;width:100%;height:0;padding-bottom:60%;\"><span style=\"color:#565656\">Make this Notebook Trusted to load map: File -> Trust Notebook</span><iframe src=\"about:blank\" style=\"position:absolute;width:100%;height:100%;left:0;top:0;border:none !important;\" data-html=%3C%21DOCTYPE%20html%3E%0A%3Chead%3E%20%20%20%20%0A%20%20%20%20%3Cmeta%20http-equiv%3D%22content-type%22%20content%3D%22text/html%3B%20charset%3DUTF-8%22%20/%3E%0A%20%20%20%20%3Cscript%3EL_PREFER_CANVAS%3Dfalse%3B%20L_NO_TOUCH%3Dfalse%3B%20L_DISABLE_3D%3Dfalse%3B%3C/script%3E%0A%20%20%20%20%3Cscript%20src%3D%22https%3A//cdn.jsdelivr.net/npm/leaflet%401.4.0/dist/leaflet.js%22%3E%3C/script%3E%0A%20%20%20%20%3Cscript%20src%3D%22https%3A//code.jquery.com/jquery-1.12.4.min.js%22%3E%3C/script%3E%0A%20%20%20%20%3Cscript%20src%3D%22https%3A//maxcdn.bootstrapcdn.com/bootstrap/3.2.0/js/bootstrap.min.js%22%3E%3C/script%3E%0A%20%20%20%20%3Cscript%20src%3D%22https%3A//cdnjs.cloudflare.com/ajax/libs/Leaflet.awesome-markers/2.0.2/leaflet.awesome-markers.js%22%3E%3C/script%3E%0A%20%20%20%20%3Clink%20rel%3D%22stylesheet%22%20href%3D%22https%3A//cdn.jsdelivr.net/npm/leaflet%401.4.0/dist/leaflet.css%22/%3E%0A%20%20%20%20%3Clink%20rel%3D%22stylesheet%22%20href%3D%22https%3A//maxcdn.bootstrapcdn.com/bootstrap/3.2.0/css/bootstrap.min.css%22/%3E%0A%20%20%20%20%3Clink%20rel%3D%22stylesheet%22%20href%3D%22https%3A//maxcdn.bootstrapcdn.com/bootstrap/3.2.0/css/bootstrap-theme.min.css%22/%3E%0A%20%20%20%20%3Clink%20rel%3D%22stylesheet%22%20href%3D%22https%3A//maxcdn.bootstrapcdn.com/font-awesome/4.6.3/css/font-awesome.min.css%22/%3E%0A%20%20%20%20%3Clink%20rel%3D%22stylesheet%22%20href%3D%22https%3A//cdnjs.cloudflare.com/ajax/libs/Leaflet.awesome-markers/2.0.2/leaflet.awesome-markers.css%22/%3E%0A%20%20%20%20%3Clink%20rel%3D%22stylesheet%22%20href%3D%22https%3A//rawcdn.githack.com/python-visualization/folium/master/folium/templates/leaflet.awesome.rotate.css%22/%3E%0A%20%20%20%20%3Cstyle%3Ehtml%2C%20body%20%7Bwidth%3A%20100%25%3Bheight%3A%20100%25%3Bmargin%3A%200%3Bpadding%3A%200%3B%7D%3C/style%3E%0A%20%20%20%20%3Cstyle%3E%23map%20%7Bposition%3Aabsolute%3Btop%3A0%3Bbottom%3A0%3Bright%3A0%3Bleft%3A0%3B%7D%3C/style%3E%0A%20%20%20%20%0A%20%20%20%20%3Cmeta%20name%3D%22viewport%22%20content%3D%22width%3Ddevice-width%2C%0A%20%20%20%20%20%20%20%20initial-scale%3D1.0%2C%20maximum-scale%3D1.0%2C%20user-scalable%3Dno%22%20/%3E%0A%20%20%20%20%3Cstyle%3E%23map_a307c6c8ceda4a4980db54e404a8c228%20%7B%0A%20%20%20%20%20%20%20%20position%3A%20relative%3B%0A%20%20%20%20%20%20%20%20width%3A%20100.0%25%3B%0A%20%20%20%20%20%20%20%20height%3A%20100.0%25%3B%0A%20%20%20%20%20%20%20%20left%3A%200.0%25%3B%0A%20%20%20%20%20%20%20%20top%3A%200.0%25%3B%0A%20%20%20%20%20%20%20%20%7D%0A%20%20%20%20%3C/style%3E%0A%3C/head%3E%0A%3Cbody%3E%20%20%20%20%0A%20%20%20%20%0A%20%20%20%20%3Cdiv%20class%3D%22folium-map%22%20id%3D%22map_a307c6c8ceda4a4980db54e404a8c228%22%20%3E%3C/div%3E%0A%3C/body%3E%0A%3Cscript%3E%20%20%20%20%0A%20%20%20%20%0A%20%20%20%20%0A%20%20%20%20%20%20%20%20var%20bounds%20%3D%20null%3B%0A%20%20%20%20%0A%0A%20%20%20%20var%20map_a307c6c8ceda4a4980db54e404a8c228%20%3D%20L.map%28%0A%20%20%20%20%20%20%20%20%27map_a307c6c8ceda4a4980db54e404a8c228%27%2C%20%7B%0A%20%20%20%20%20%20%20%20center%3A%20%5B-1.831239%2C%20-78.183403%5D%2C%0A%20%20%20%20%20%20%20%20zoom%3A%207%2C%0A%20%20%20%20%20%20%20%20maxBounds%3A%20bounds%2C%0A%20%20%20%20%20%20%20%20layers%3A%20%5B%5D%2C%0A%20%20%20%20%20%20%20%20worldCopyJump%3A%20false%2C%0A%20%20%20%20%20%20%20%20crs%3A%20L.CRS.EPSG3857%2C%0A%20%20%20%20%20%20%20%20zoomControl%3A%20true%2C%0A%20%20%20%20%20%20%20%20%7D%29%3B%0A%0A%0A%20%20%20%20%0A%20%20%20%20var%20tile_layer_c4e5b6754d5247c899c1730f924990f2%20%3D%20L.tileLayer%28%0A%20%20%20%20%20%20%20%20%27https%3A//cartodb-basemaps-%7Bs%7D.global.ssl.fastly.net/light_all/%7Bz%7D/%7Bx%7D/%7By%7D.png%27%2C%0A%20%20%20%20%20%20%20%20%7B%0A%20%20%20%20%20%20%20%20%22attribution%22%3A%20null%2C%0A%20%20%20%20%20%20%20%20%22detectRetina%22%3A%20false%2C%0A%20%20%20%20%20%20%20%20%22maxNativeZoom%22%3A%2018%2C%0A%20%20%20%20%20%20%20%20%22maxZoom%22%3A%2018%2C%0A%20%20%20%20%20%20%20%20%22minZoom%22%3A%200%2C%0A%20%20%20%20%20%20%20%20%22noWrap%22%3A%20false%2C%0A%20%20%20%20%20%20%20%20%22opacity%22%3A%201%2C%0A%20%20%20%20%20%20%20%20%22subdomains%22%3A%20%22abc%22%2C%0A%20%20%20%20%20%20%20%20%22tms%22%3A%20false%0A%7D%29.addTo%28map_a307c6c8ceda4a4980db54e404a8c228%29%3B%0A%20%20%20%20%0A%20%20%20%20%20%20%20%20var%20marker_0cd68a4bfa1349e3a52957e3948caac2%20%3D%20L.marker%28%0A%20%20%20%20%20%20%20%20%20%20%20%20%5B-1.877144%2C%20-79.986313%5D%2C%0A%20%20%20%20%20%20%20%20%20%20%20%20%7B%0A%20%20%20%20%20%20%20%20%20%20%20%20%20%20%20%20icon%3A%20new%20L.Icon.Default%28%29%2C%0A%20%20%20%20%20%20%20%20%20%20%20%20%20%20%20%20%7D%0A%20%20%20%20%20%20%20%20%20%20%20%20%29.addTo%28map_a307c6c8ceda4a4980db54e404a8c228%29%3B%0A%20%20%20%20%20%20%20%20%0A%20%20%20%20%0A%20%20%20%20%20%20%20%20%20%20%20%20var%20popup_d3638a40e896472ab3f06aea4677cd04%20%3D%20L.popup%28%7BmaxWidth%3A%20%27100%25%27%0A%20%20%20%20%20%20%20%20%20%20%20%20%0A%20%20%20%20%20%20%20%20%20%20%20%20%7D%29%3B%0A%0A%20%20%20%20%20%20%20%20%20%20%20%20%0A%20%20%20%20%20%20%20%20%20%20%20%20%20%20%20%20var%20html_346c697b25974648aee5a152bb354d69%20%3D%20%24%28%60%3Cdiv%20id%3D%22html_346c697b25974648aee5a152bb354d69%22%20style%3D%22width%3A%20100.0%25%3B%20height%3A%20100.0%25%3B%22%3EPiladora%20Gloria%20Matilde%3C/div%3E%60%29%5B0%5D%3B%0A%20%20%20%20%20%20%20%20%20%20%20%20%20%20%20%20popup_d3638a40e896472ab3f06aea4677cd04.setContent%28html_346c697b25974648aee5a152bb354d69%29%3B%0A%20%20%20%20%20%20%20%20%20%20%20%20%0A%0A%20%20%20%20%20%20%20%20%20%20%20%20marker_0cd68a4bfa1349e3a52957e3948caac2.bindPopup%28popup_d3638a40e896472ab3f06aea4677cd04%29%0A%20%20%20%20%20%20%20%20%20%20%20%20%3B%0A%0A%20%20%20%20%20%20%20%20%20%20%20%20%0A%20%20%20%20%20%20%20%20%0A%20%20%20%20%0A%20%20%20%20%20%20%20%20var%20marker_844b643200ab42889ce95bc8718a031f%20%3D%20L.marker%28%0A%20%20%20%20%20%20%20%20%20%20%20%20%5B-1.8824720000000001%2C%20-79.983788%5D%2C%0A%20%20%20%20%20%20%20%20%20%20%20%20%7B%0A%20%20%20%20%20%20%20%20%20%20%20%20%20%20%20%20icon%3A%20new%20L.Icon.Default%28%29%2C%0A%20%20%20%20%20%20%20%20%20%20%20%20%20%20%20%20%7D%0A%20%20%20%20%20%20%20%20%20%20%20%20%29.addTo%28map_a307c6c8ceda4a4980db54e404a8c228%29%3B%0A%20%20%20%20%20%20%20%20%0A%20%20%20%20%0A%20%20%20%20%20%20%20%20%20%20%20%20var%20popup_f28476d8f76e4048a2d3ca10d7149727%20%3D%20L.popup%28%7BmaxWidth%3A%20%27100%25%27%0A%20%20%20%20%20%20%20%20%20%20%20%20%0A%20%20%20%20%20%20%20%20%20%20%20%20%7D%29%3B%0A%0A%20%20%20%20%20%20%20%20%20%20%20%20%0A%20%20%20%20%20%20%20%20%20%20%20%20%20%20%20%20var%20html_cdc64e3d455a47159723209a7f84d90d%20%3D%20%24%28%60%3Cdiv%20id%3D%22html_cdc64e3d455a47159723209a7f84d90d%22%20style%3D%22width%3A%20100.0%25%3B%20height%3A%20100.0%25%3B%22%3EPiladora%20Yanco%3C/div%3E%60%29%5B0%5D%3B%0A%20%20%20%20%20%20%20%20%20%20%20%20%20%20%20%20popup_f28476d8f76e4048a2d3ca10d7149727.setContent%28html_cdc64e3d455a47159723209a7f84d90d%29%3B%0A%20%20%20%20%20%20%20%20%20%20%20%20%0A%0A%20%20%20%20%20%20%20%20%20%20%20%20marker_844b643200ab42889ce95bc8718a031f.bindPopup%28popup_f28476d8f76e4048a2d3ca10d7149727%29%0A%20%20%20%20%20%20%20%20%20%20%20%20%3B%0A%0A%20%20%20%20%20%20%20%20%20%20%20%20%0A%20%20%20%20%20%20%20%20%0A%20%20%20%20%0A%20%20%20%20%20%20%20%20var%20marker_7623a661e2dc4507a3aee9d1d30c6b8a%20%3D%20L.marker%28%0A%20%20%20%20%20%20%20%20%20%20%20%20%5B-1.835461%2C%20-79.978638%5D%2C%0A%20%20%20%20%20%20%20%20%20%20%20%20%7B%0A%20%20%20%20%20%20%20%20%20%20%20%20%20%20%20%20icon%3A%20new%20L.Icon.Default%28%29%2C%0A%20%20%20%20%20%20%20%20%20%20%20%20%20%20%20%20%7D%0A%20%20%20%20%20%20%20%20%20%20%20%20%29.addTo%28map_a307c6c8ceda4a4980db54e404a8c228%29%3B%0A%20%20%20%20%20%20%20%20%0A%20%20%20%20%0A%20%20%20%20%20%20%20%20%20%20%20%20var%20popup_3a930767020845868d55440950444879%20%3D%20L.popup%28%7BmaxWidth%3A%20%27100%25%27%0A%20%20%20%20%20%20%20%20%20%20%20%20%0A%20%20%20%20%20%20%20%20%20%20%20%20%7D%29%3B%0A%0A%20%20%20%20%20%20%20%20%20%20%20%20%0A%20%20%20%20%20%20%20%20%20%20%20%20%20%20%20%20var%20html_514349c34026470e9d4f6f9d137f834a%20%3D%20%24%28%60%3Cdiv%20id%3D%22html_514349c34026470e9d4f6f9d137f834a%22%20style%3D%22width%3A%20100.0%25%3B%20height%3A%20100.0%25%3B%22%3EPiladora%20Santa%20Clara%3C/div%3E%60%29%5B0%5D%3B%0A%20%20%20%20%20%20%20%20%20%20%20%20%20%20%20%20popup_3a930767020845868d55440950444879.setContent%28html_514349c34026470e9d4f6f9d137f834a%29%3B%0A%20%20%20%20%20%20%20%20%20%20%20%20%0A%0A%20%20%20%20%20%20%20%20%20%20%20%20marker_7623a661e2dc4507a3aee9d1d30c6b8a.bindPopup%28popup_3a930767020845868d55440950444879%29%0A%20%20%20%20%20%20%20%20%20%20%20%20%3B%0A%0A%20%20%20%20%20%20%20%20%20%20%20%20%0A%20%20%20%20%20%20%20%20%0A%20%20%20%20%0A%20%20%20%20%20%20%20%20var%20marker_cc60ac0aad084e62a9b1ce4b4ab0d055%20%3D%20L.marker%28%0A%20%20%20%20%20%20%20%20%20%20%20%20%5B-1.796984%2C%20-79.990654%5D%2C%0A%20%20%20%20%20%20%20%20%20%20%20%20%7B%0A%20%20%20%20%20%20%20%20%20%20%20%20%20%20%20%20icon%3A%20new%20L.Icon.Default%28%29%2C%0A%20%20%20%20%20%20%20%20%20%20%20%20%20%20%20%20%7D%0A%20%20%20%20%20%20%20%20%20%20%20%20%29.addTo%28map_a307c6c8ceda4a4980db54e404a8c228%29%3B%0A%20%20%20%20%20%20%20%20%0A%20%20%20%20%0A%20%20%20%20%20%20%20%20%20%20%20%20var%20popup_855da97a531447b29fce347831554724%20%3D%20L.popup%28%7BmaxWidth%3A%20%27100%25%27%0A%20%20%20%20%20%20%20%20%20%20%20%20%0A%20%20%20%20%20%20%20%20%20%20%20%20%7D%29%3B%0A%0A%20%20%20%20%20%20%20%20%20%20%20%20%0A%20%20%20%20%20%20%20%20%20%20%20%20%20%20%20%20var%20html_e4e0777dd1034281b539245893c2ddee%20%3D%20%24%28%60%3Cdiv%20id%3D%22html_e4e0777dd1034281b539245893c2ddee%22%20style%3D%22width%3A%20100.0%25%3B%20height%3A%20100.0%25%3B%22%3EPiladora%20Katty%20Nicolk%3C/div%3E%60%29%5B0%5D%3B%0A%20%20%20%20%20%20%20%20%20%20%20%20%20%20%20%20popup_855da97a531447b29fce347831554724.setContent%28html_e4e0777dd1034281b539245893c2ddee%29%3B%0A%20%20%20%20%20%20%20%20%20%20%20%20%0A%0A%20%20%20%20%20%20%20%20%20%20%20%20marker_cc60ac0aad084e62a9b1ce4b4ab0d055.bindPopup%28popup_855da97a531447b29fce347831554724%29%0A%20%20%20%20%20%20%20%20%20%20%20%20%3B%0A%0A%20%20%20%20%20%20%20%20%20%20%20%20%0A%20%20%20%20%20%20%20%20%0A%20%20%20%20%0A%20%20%20%20%20%20%20%20var%20marker_ca101a4dbc004ec581b2d6c4b0edce71%20%3D%20L.marker%28%0A%20%20%20%20%20%20%20%20%20%20%20%20%5B-1.79414%2C%20-79.99324%5D%2C%0A%20%20%20%20%20%20%20%20%20%20%20%20%7B%0A%20%20%20%20%20%20%20%20%20%20%20%20%20%20%20%20icon%3A%20new%20L.Icon.Default%28%29%2C%0A%20%20%20%20%20%20%20%20%20%20%20%20%20%20%20%20%7D%0A%20%20%20%20%20%20%20%20%20%20%20%20%29.addTo%28map_a307c6c8ceda4a4980db54e404a8c228%29%3B%0A%20%20%20%20%20%20%20%20%0A%20%20%20%20%0A%20%20%20%20%20%20%20%20%20%20%20%20var%20popup_97bc5ea46da9404d96a339e892b514b1%20%3D%20L.popup%28%7BmaxWidth%3A%20%27100%25%27%0A%20%20%20%20%20%20%20%20%20%20%20%20%0A%20%20%20%20%20%20%20%20%20%20%20%20%7D%29%3B%0A%0A%20%20%20%20%20%20%20%20%20%20%20%20%0A%20%20%20%20%20%20%20%20%20%20%20%20%20%20%20%20var%20html_5be4ba2ea96c4a96a4ff9974eb1a2e09%20%3D%20%24%28%60%3Cdiv%20id%3D%22html_5be4ba2ea96c4a96a4ff9974eb1a2e09%22%20style%3D%22width%3A%20100.0%25%3B%20height%3A%20100.0%25%3B%22%3EPiladora%20Voluntad%20de%20Dios%3C/div%3E%60%29%5B0%5D%3B%0A%20%20%20%20%20%20%20%20%20%20%20%20%20%20%20%20popup_97bc5ea46da9404d96a339e892b514b1.setContent%28html_5be4ba2ea96c4a96a4ff9974eb1a2e09%29%3B%0A%20%20%20%20%20%20%20%20%20%20%20%20%0A%0A%20%20%20%20%20%20%20%20%20%20%20%20marker_ca101a4dbc004ec581b2d6c4b0edce71.bindPopup%28popup_97bc5ea46da9404d96a339e892b514b1%29%0A%20%20%20%20%20%20%20%20%20%20%20%20%3B%0A%0A%20%20%20%20%20%20%20%20%20%20%20%20%0A%20%20%20%20%20%20%20%20%0A%20%20%20%20%0A%20%20%20%20%20%20%20%20var%20marker_97d4814b942f4dcf9321e6fdea614183%20%3D%20L.marker%28%0A%20%20%20%20%20%20%20%20%20%20%20%20%5B-1.7853130000000001%2C%20-79.99764300000001%5D%2C%0A%20%20%20%20%20%20%20%20%20%20%20%20%7B%0A%20%20%20%20%20%20%20%20%20%20%20%20%20%20%20%20icon%3A%20new%20L.Icon.Default%28%29%2C%0A%20%20%20%20%20%20%20%20%20%20%20%20%20%20%20%20%7D%0A%20%20%20%20%20%20%20%20%20%20%20%20%29.addTo%28map_a307c6c8ceda4a4980db54e404a8c228%29%3B%0A%20%20%20%20%20%20%20%20%0A%20%20%20%20%0A%20%20%20%20%20%20%20%20%20%20%20%20var%20popup_676ec4bd51194651bc57c4480123214b%20%3D%20L.popup%28%7BmaxWidth%3A%20%27100%25%27%0A%20%20%20%20%20%20%20%20%20%20%20%20%0A%20%20%20%20%20%20%20%20%20%20%20%20%7D%29%3B%0A%0A%20%20%20%20%20%20%20%20%20%20%20%20%0A%20%20%20%20%20%20%20%20%20%20%20%20%20%20%20%20var%20html_b0d993c1470b4d1abd4499078e76c10c%20%3D%20%24%28%60%3Cdiv%20id%3D%22html_b0d993c1470b4d1abd4499078e76c10c%22%20style%3D%22width%3A%20100.0%25%3B%20height%3A%20100.0%25%3B%22%3EPiladora%20la%20dorada%3C/div%3E%60%29%5B0%5D%3B%0A%20%20%20%20%20%20%20%20%20%20%20%20%20%20%20%20popup_676ec4bd51194651bc57c4480123214b.setContent%28html_b0d993c1470b4d1abd4499078e76c10c%29%3B%0A%20%20%20%20%20%20%20%20%20%20%20%20%0A%0A%20%20%20%20%20%20%20%20%20%20%20%20marker_97d4814b942f4dcf9321e6fdea614183.bindPopup%28popup_676ec4bd51194651bc57c4480123214b%29%0A%20%20%20%20%20%20%20%20%20%20%20%20%3B%0A%0A%20%20%20%20%20%20%20%20%20%20%20%20%0A%20%20%20%20%20%20%20%20%0A%20%20%20%20%0A%20%20%20%20%20%20%20%20var%20marker_d7e61a8cb76846d29579ab580143aeb3%20%3D%20L.marker%28%0A%20%20%20%20%20%20%20%20%20%20%20%20%5B-1.7786650000000002%2C%20-79.995285%5D%2C%0A%20%20%20%20%20%20%20%20%20%20%20%20%7B%0A%20%20%20%20%20%20%20%20%20%20%20%20%20%20%20%20icon%3A%20new%20L.Icon.Default%28%29%2C%0A%20%20%20%20%20%20%20%20%20%20%20%20%20%20%20%20%7D%0A%20%20%20%20%20%20%20%20%20%20%20%20%29.addTo%28map_a307c6c8ceda4a4980db54e404a8c228%29%3B%0A%20%20%20%20%20%20%20%20%0A%20%20%20%20%0A%20%20%20%20%20%20%20%20%20%20%20%20var%20popup_653c685aa53d47bd876f28f7bb2e580d%20%3D%20L.popup%28%7BmaxWidth%3A%20%27100%25%27%0A%20%20%20%20%20%20%20%20%20%20%20%20%0A%20%20%20%20%20%20%20%20%20%20%20%20%7D%29%3B%0A%0A%20%20%20%20%20%20%20%20%20%20%20%20%0A%20%20%20%20%20%20%20%20%20%20%20%20%20%20%20%20var%20html_e09cc2631a144273ad2a223d23bd6166%20%3D%20%24%28%60%3Cdiv%20id%3D%22html_e09cc2631a144273ad2a223d23bd6166%22%20style%3D%22width%3A%20100.0%25%3B%20height%3A%20100.0%25%3B%22%3EPiladora%20Nacho%3C/div%3E%60%29%5B0%5D%3B%0A%20%20%20%20%20%20%20%20%20%20%20%20%20%20%20%20popup_653c685aa53d47bd876f28f7bb2e580d.setContent%28html_e09cc2631a144273ad2a223d23bd6166%29%3B%0A%20%20%20%20%20%20%20%20%20%20%20%20%0A%0A%20%20%20%20%20%20%20%20%20%20%20%20marker_d7e61a8cb76846d29579ab580143aeb3.bindPopup%28popup_653c685aa53d47bd876f28f7bb2e580d%29%0A%20%20%20%20%20%20%20%20%20%20%20%20%3B%0A%0A%20%20%20%20%20%20%20%20%20%20%20%20%0A%20%20%20%20%20%20%20%20%0A%20%20%20%20%0A%20%20%20%20%20%20%20%20var%20marker_bc291a807e064273baf342cf695e2ce3%20%3D%20L.marker%28%0A%20%20%20%20%20%20%20%20%20%20%20%20%5B-1.766532%2C%20-79.991364%5D%2C%0A%20%20%20%20%20%20%20%20%20%20%20%20%7B%0A%20%20%20%20%20%20%20%20%20%20%20%20%20%20%20%20icon%3A%20new%20L.Icon.Default%28%29%2C%0A%20%20%20%20%20%20%20%20%20%20%20%20%20%20%20%20%7D%0A%20%20%20%20%20%20%20%20%20%20%20%20%29.addTo%28map_a307c6c8ceda4a4980db54e404a8c228%29%3B%0A%20%20%20%20%20%20%20%20%0A%20%20%20%20%0A%20%20%20%20%20%20%20%20%20%20%20%20var%20popup_7e9b788a5d2043549e154a0a2e73b215%20%3D%20L.popup%28%7BmaxWidth%3A%20%27100%25%27%0A%20%20%20%20%20%20%20%20%20%20%20%20%0A%20%20%20%20%20%20%20%20%20%20%20%20%7D%29%3B%0A%0A%20%20%20%20%20%20%20%20%20%20%20%20%0A%20%20%20%20%20%20%20%20%20%20%20%20%20%20%20%20var%20html_19b29fcbe89342b8bd98092199dba5c7%20%3D%20%24%28%60%3Cdiv%20id%3D%22html_19b29fcbe89342b8bd98092199dba5c7%22%20style%3D%22width%3A%20100.0%25%3B%20height%3A%20100.0%25%3B%22%3EPiladora%20Brito%20y%20Es%C2%B4pinoza%3C/div%3E%60%29%5B0%5D%3B%0A%20%20%20%20%20%20%20%20%20%20%20%20%20%20%20%20popup_7e9b788a5d2043549e154a0a2e73b215.setContent%28html_19b29fcbe89342b8bd98092199dba5c7%29%3B%0A%20%20%20%20%20%20%20%20%20%20%20%20%0A%0A%20%20%20%20%20%20%20%20%20%20%20%20marker_bc291a807e064273baf342cf695e2ce3.bindPopup%28popup_7e9b788a5d2043549e154a0a2e73b215%29%0A%20%20%20%20%20%20%20%20%20%20%20%20%3B%0A%0A%20%20%20%20%20%20%20%20%20%20%20%20%0A%20%20%20%20%20%20%20%20%0A%20%20%20%20%0A%20%20%20%20%20%20%20%20var%20marker_2f080bf27fe04518a57a07f3b1b3e266%20%3D%20L.marker%28%0A%20%20%20%20%20%20%20%20%20%20%20%20%5B-1.762916%2C%20-79.990486%5D%2C%0A%20%20%20%20%20%20%20%20%20%20%20%20%7B%0A%20%20%20%20%20%20%20%20%20%20%20%20%20%20%20%20icon%3A%20new%20L.Icon.Default%28%29%2C%0A%20%20%20%20%20%20%20%20%20%20%20%20%20%20%20%20%7D%0A%20%20%20%20%20%20%20%20%20%20%20%20%29.addTo%28map_a307c6c8ceda4a4980db54e404a8c228%29%3B%0A%20%20%20%20%20%20%20%20%0A%20%20%20%20%0A%20%20%20%20%20%20%20%20%20%20%20%20var%20popup_a6ae7f768135475d968c75b4b5d3541c%20%3D%20L.popup%28%7BmaxWidth%3A%20%27100%25%27%0A%20%20%20%20%20%20%20%20%20%20%20%20%0A%20%20%20%20%20%20%20%20%20%20%20%20%7D%29%3B%0A%0A%20%20%20%20%20%20%20%20%20%20%20%20%0A%20%20%20%20%20%20%20%20%20%20%20%20%20%20%20%20var%20html_a7e81f1bc845435cab757a3007fe7373%20%3D%20%24%28%60%3Cdiv%20id%3D%22html_a7e81f1bc845435cab757a3007fe7373%22%20style%3D%22width%3A%20100.0%25%3B%20height%3A%20100.0%25%3B%22%3EPiladora%20Mary%20Joe%3C/div%3E%60%29%5B0%5D%3B%0A%20%20%20%20%20%20%20%20%20%20%20%20%20%20%20%20popup_a6ae7f768135475d968c75b4b5d3541c.setContent%28html_a7e81f1bc845435cab757a3007fe7373%29%3B%0A%20%20%20%20%20%20%20%20%20%20%20%20%0A%0A%20%20%20%20%20%20%20%20%20%20%20%20marker_2f080bf27fe04518a57a07f3b1b3e266.bindPopup%28popup_a6ae7f768135475d968c75b4b5d3541c%29%0A%20%20%20%20%20%20%20%20%20%20%20%20%3B%0A%0A%20%20%20%20%20%20%20%20%20%20%20%20%0A%20%20%20%20%20%20%20%20%0A%20%20%20%20%0A%20%20%20%20%20%20%20%20var%20marker_7801dd85f5bf45bea89a6ac247d74789%20%3D%20L.marker%28%0A%20%20%20%20%20%20%20%20%20%20%20%20%5B-1.753775%2C%20-79.98859399999999%5D%2C%0A%20%20%20%20%20%20%20%20%20%20%20%20%7B%0A%20%20%20%20%20%20%20%20%20%20%20%20%20%20%20%20icon%3A%20new%20L.Icon.Default%28%29%2C%0A%20%20%20%20%20%20%20%20%20%20%20%20%20%20%20%20%7D%0A%20%20%20%20%20%20%20%20%20%20%20%20%29.addTo%28map_a307c6c8ceda4a4980db54e404a8c228%29%3B%0A%20%20%20%20%20%20%20%20%0A%20%20%20%20%0A%20%20%20%20%20%20%20%20%20%20%20%20var%20popup_50925c21af94496d9b4826396380b982%20%3D%20L.popup%28%7BmaxWidth%3A%20%27100%25%27%0A%20%20%20%20%20%20%20%20%20%20%20%20%0A%20%20%20%20%20%20%20%20%20%20%20%20%7D%29%3B%0A%0A%20%20%20%20%20%20%20%20%20%20%20%20%0A%20%20%20%20%20%20%20%20%20%20%20%20%20%20%20%20var%20html_8782004431f742c8afdb07d9ab8df865%20%3D%20%24%28%60%3Cdiv%20id%3D%22html_8782004431f742c8afdb07d9ab8df865%22%20style%3D%22width%3A%20100.0%25%3B%20height%3A%20100.0%25%3B%22%3EPiladora%20Fatima%3C/div%3E%60%29%5B0%5D%3B%0A%20%20%20%20%20%20%20%20%20%20%20%20%20%20%20%20popup_50925c21af94496d9b4826396380b982.setContent%28html_8782004431f742c8afdb07d9ab8df865%29%3B%0A%20%20%20%20%20%20%20%20%20%20%20%20%0A%0A%20%20%20%20%20%20%20%20%20%20%20%20marker_7801dd85f5bf45bea89a6ac247d74789.bindPopup%28popup_50925c21af94496d9b4826396380b982%29%0A%20%20%20%20%20%20%20%20%20%20%20%20%3B%0A%0A%20%20%20%20%20%20%20%20%20%20%20%20%0A%20%20%20%20%20%20%20%20%0A%20%20%20%20%0A%20%20%20%20%20%20%20%20var%20marker_d987deb410e54d48b0dfe8535cafade3%20%3D%20L.marker%28%0A%20%20%20%20%20%20%20%20%20%20%20%20%5B-1.7481%2C%20-79.987122%5D%2C%0A%20%20%20%20%20%20%20%20%20%20%20%20%7B%0A%20%20%20%20%20%20%20%20%20%20%20%20%20%20%20%20icon%3A%20new%20L.Icon.Default%28%29%2C%0A%20%20%20%20%20%20%20%20%20%20%20%20%20%20%20%20%7D%0A%20%20%20%20%20%20%20%20%20%20%20%20%29.addTo%28map_a307c6c8ceda4a4980db54e404a8c228%29%3B%0A%20%20%20%20%20%20%20%20%0A%20%20%20%20%0A%20%20%20%20%20%20%20%20%20%20%20%20var%20popup_ca8b2f0a0b6d49639c357c9ea7f30132%20%3D%20L.popup%28%7BmaxWidth%3A%20%27100%25%27%0A%20%20%20%20%20%20%20%20%20%20%20%20%0A%20%20%20%20%20%20%20%20%20%20%20%20%7D%29%3B%0A%0A%20%20%20%20%20%20%20%20%20%20%20%20%0A%20%20%20%20%20%20%20%20%20%20%20%20%20%20%20%20var%20html_5bf0d66b7c8a484bb8a4e40e374df32d%20%3D%20%24%28%60%3Cdiv%20id%3D%22html_5bf0d66b7c8a484bb8a4e40e374df32d%22%20style%3D%22width%3A%20100.0%25%3B%20height%3A%20100.0%25%3B%22%3EPiladora%20Santa%20Lucia%3C/div%3E%60%29%5B0%5D%3B%0A%20%20%20%20%20%20%20%20%20%20%20%20%20%20%20%20popup_ca8b2f0a0b6d49639c357c9ea7f30132.setContent%28html_5bf0d66b7c8a484bb8a4e40e374df32d%29%3B%0A%20%20%20%20%20%20%20%20%20%20%20%20%0A%0A%20%20%20%20%20%20%20%20%20%20%20%20marker_d987deb410e54d48b0dfe8535cafade3.bindPopup%28popup_ca8b2f0a0b6d49639c357c9ea7f30132%29%0A%20%20%20%20%20%20%20%20%20%20%20%20%3B%0A%0A%20%20%20%20%20%20%20%20%20%20%20%20%0A%20%20%20%20%20%20%20%20%0A%3C/script%3E onload=\"this.contentDocument.open();this.contentDocument.write(    decodeURIComponent(this.getAttribute('data-html')));this.contentDocument.close();\" allowfullscreen webkitallowfullscreen mozallowfullscreen></iframe></div></div>"
            ],
            "text/plain": [
              "<folium.folium.Map at 0x7f7fac254550>"
            ]
          },
          "metadata": {
            "tags": []
          },
          "execution_count": 26
        }
      ]
    },
    {
      "cell_type": "code",
      "metadata": {
        "colab": {
          "base_uri": "https://localhost:8080/",
          "height": 405
        },
        "id": "1up52h6a4f7k",
        "outputId": "d3dd72b9-689d-40cc-f365-0969fac348e1"
      },
      "source": [
        " from scipy.spatial.distance import squareform, pdist\r\n",
        " data=df\r\n",
        "for i in df[\"Piladora\"]:\r\n",
        "    for j in df[\"Piladora\"]:\r\n",
        "        row = df[df[\"Piladora\"] == j][[\"Latitud\", \"Longitud\"]]\r\n",
        "        latitude = row[\"Latitud\"].tolist()[0]\r\n",
        "        longitude = row[\"Longitud\"].tolist()[0]\r\n",
        "        df.loc[df['Piladora'] == i, j] = ((df[\"Latitud\"] - latitude)**2 + (df[\"Longitud\"] - longitude)**2)**0.5\r\n",
        "\r\n",
        "df = df.drop([\"Piladora\", \"Latitud\", \"Longitud\",\"Producción Lbs\"], axis=1)\r\n",
        "df.head()\r\n"
      ],
      "execution_count": 27,
      "outputs": [
        {
          "output_type": "execute_result",
          "data": {
            "text/html": [
              "<div>\n",
              "<style scoped>\n",
              "    .dataframe tbody tr th:only-of-type {\n",
              "        vertical-align: middle;\n",
              "    }\n",
              "\n",
              "    .dataframe tbody tr th {\n",
              "        vertical-align: top;\n",
              "    }\n",
              "\n",
              "    .dataframe thead th {\n",
              "        text-align: right;\n",
              "    }\n",
              "</style>\n",
              "<table border=\"1\" class=\"dataframe\">\n",
              "  <thead>\n",
              "    <tr style=\"text-align: right;\">\n",
              "      <th></th>\n",
              "      <th>geometry</th>\n",
              "      <th>Piladora Gloria Matilde</th>\n",
              "      <th>Piladora Yanco</th>\n",
              "      <th>Piladora Santa Clara</th>\n",
              "      <th>Piladora Katty Nicolk</th>\n",
              "      <th>Piladora Voluntad de Dios</th>\n",
              "      <th>Piladora la dorada</th>\n",
              "      <th>Piladora Nacho</th>\n",
              "      <th>Piladora Brito y Es´pinoza</th>\n",
              "      <th>Piladora Mary Joe</th>\n",
              "      <th>Piladora Fatima</th>\n",
              "      <th>Piladora Santa Lucia</th>\n",
              "    </tr>\n",
              "  </thead>\n",
              "  <tbody>\n",
              "    <tr>\n",
              "      <th>0</th>\n",
              "      <td>POINT (-79.98631 -1.87714)</td>\n",
              "      <td>0.000000</td>\n",
              "      <td>0.005896</td>\n",
              "      <td>0.042384</td>\n",
              "      <td>0.080277</td>\n",
              "      <td>0.083293</td>\n",
              "      <td>0.092527</td>\n",
              "      <td>0.098887</td>\n",
              "      <td>0.110727</td>\n",
              "      <td>0.114304</td>\n",
              "      <td>0.123390</td>\n",
              "      <td>0.129047</td>\n",
              "    </tr>\n",
              "    <tr>\n",
              "      <th>1</th>\n",
              "      <td>POINT (-79.98379 -1.88247)</td>\n",
              "      <td>0.005896</td>\n",
              "      <td>0.000000</td>\n",
              "      <td>0.047292</td>\n",
              "      <td>0.085763</td>\n",
              "      <td>0.088836</td>\n",
              "      <td>0.098142</td>\n",
              "      <td>0.104442</td>\n",
              "      <td>0.116187</td>\n",
              "      <td>0.119743</td>\n",
              "      <td>0.128787</td>\n",
              "      <td>0.134413</td>\n",
              "    </tr>\n",
              "    <tr>\n",
              "      <th>2</th>\n",
              "      <td>POINT (-79.97864 -1.83546)</td>\n",
              "      <td>0.042384</td>\n",
              "      <td>0.047292</td>\n",
              "      <td>0.000000</td>\n",
              "      <td>0.040310</td>\n",
              "      <td>0.043825</td>\n",
              "      <td>0.053628</td>\n",
              "      <td>0.059185</td>\n",
              "      <td>0.070094</td>\n",
              "      <td>0.073506</td>\n",
              "      <td>0.082290</td>\n",
              "      <td>0.087772</td>\n",
              "    </tr>\n",
              "    <tr>\n",
              "      <th>3</th>\n",
              "      <td>POINT (-79.99065 -1.79698)</td>\n",
              "      <td>0.080277</td>\n",
              "      <td>0.085763</td>\n",
              "      <td>0.040310</td>\n",
              "      <td>0.000000</td>\n",
              "      <td>0.003844</td>\n",
              "      <td>0.013604</td>\n",
              "      <td>0.018895</td>\n",
              "      <td>0.030460</td>\n",
              "      <td>0.034068</td>\n",
              "      <td>0.043258</td>\n",
              "      <td>0.049011</td>\n",
              "    </tr>\n",
              "    <tr>\n",
              "      <th>4</th>\n",
              "      <td>POINT (-79.99324 -1.79414)</td>\n",
              "      <td>0.083293</td>\n",
              "      <td>0.088836</td>\n",
              "      <td>0.043825</td>\n",
              "      <td>0.003844</td>\n",
              "      <td>0.000000</td>\n",
              "      <td>0.009864</td>\n",
              "      <td>0.015610</td>\n",
              "      <td>0.027672</td>\n",
              "      <td>0.031345</td>\n",
              "      <td>0.040631</td>\n",
              "      <td>0.046445</td>\n",
              "    </tr>\n",
              "  </tbody>\n",
              "</table>\n",
              "</div>"
            ],
            "text/plain": [
              "                     geometry  ...  Piladora Santa Lucia\n",
              "0  POINT (-79.98631 -1.87714)  ...              0.129047\n",
              "1  POINT (-79.98379 -1.88247)  ...              0.134413\n",
              "2  POINT (-79.97864 -1.83546)  ...              0.087772\n",
              "3  POINT (-79.99065 -1.79698)  ...              0.049011\n",
              "4  POINT (-79.99324 -1.79414)  ...              0.046445\n",
              "\n",
              "[5 rows x 12 columns]"
            ]
          },
          "metadata": {
            "tags": []
          },
          "execution_count": 27
        }
      ]
    },
    {
      "cell_type": "code",
      "metadata": {
        "colab": {
          "base_uri": "https://localhost:8080/"
        },
        "id": "0sa6_qtu8X8I",
        "outputId": "19f66ede-f82f-4458-f1aa-8f92277323db"
      },
      "source": [
        "pip install ortools"
      ],
      "execution_count": null,
      "outputs": [
        {
          "output_type": "stream",
          "text": [
            "Requirement already satisfied: ortools in /usr/local/lib/python3.6/dist-packages (8.1.8487)\n",
            "Requirement already satisfied: protobuf>=3.14.0 in /usr/local/lib/python3.6/dist-packages (from ortools) (3.14.0)\n",
            "Requirement already satisfied: absl-py>=0.11 in /usr/local/lib/python3.6/dist-packages (from ortools) (0.11.0)\n",
            "Requirement already satisfied: six>=1.9 in /usr/local/lib/python3.6/dist-packages (from protobuf>=3.14.0->ortools) (1.15.0)\n"
          ],
          "name": "stdout"
        }
      ]
    },
    {
      "cell_type": "code",
      "metadata": {
        "id": "7uegYr8H8zCC"
      },
      "source": [
        "\"\"\"Capacitated Vehicle Routing Problem with Time Windows (CVRPTW).\r\n",
        "\"\"\"\r\n",
        "from __future__ import print_function\r\n",
        "from ortools.constraint_solver import pywrapcp\r\n",
        "from ortools.constraint_solver import routing_enums_pb2"
      ],
      "execution_count": null,
      "outputs": []
    },
    {
      "cell_type": "code",
      "metadata": {
        "id": "sIjJeMnF-qr9"
      },
      "source": [
        "# Copyright 2010-2018 Google LLC\r\n",
        "# Licensed under the Apache License, Version 2.0 (the \"License\");\r\n",
        "# you may not use this file except in compliance with the License.\r\n",
        "# You may obtain a copy of the License at\r\n",
        "#\r\n",
        "#     http://www.apache.org/licenses/LICENSE-2.0\r\n",
        "#\r\n",
        "# Unless required by applicable law or agreed to in writing, software\r\n",
        "# distributed under the License is distributed on an \"AS IS\" BASIS,\r\n",
        "# WITHOUT WARRANTIES OR CONDITIONS OF ANY KIND, either express or implied.\r\n",
        "# See the License for the specific language governing permissions and\r\n",
        "# limitations under the License.\r\n",
        "# [START program]\r\n",
        "\"\"\"Capacited Vehicles Routing Problem (CVRP).\"\"\"\r\n",
        "\r\n",
        "# [START import]\r\n",
        "from ortools.constraint_solver import routing_enums_pb2\r\n",
        "from ortools.constraint_solver import pywrapcp\r\n",
        "# [END import]\r\n",
        "\r\n",
        "\r\n",
        "# [START data_model]\r\n",
        "def create_data_model():\r\n",
        "    \"\"\"Stores the data for the problem.\"\"\"\r\n",
        "    data = {}\r\n",
        "    data['distance_matrix'] = df.values\r\n",
        "    # [START demands_capacities]\r\n",
        "    data['demands'] = [30, 30,30,30,30,30,30,30,30,30,30]\r\n",
        "    data['vehicle_capacities'] = [10,10,10]\r\n",
        "    # [END demands_capacities]\r\n",
        "    data['num_vehicles'] = 4\r\n",
        "    data['depot'] = 0\r\n",
        "    return data\r\n",
        "    # [END data_model]\r\n",
        "\r\n",
        "\r\n",
        "# [START solution_printer]\r\n",
        "def print_solution(data, manager, routing, solution):\r\n",
        "    \"\"\"Prints solution on console.\"\"\"\r\n",
        "    total_distance = 0\r\n",
        "    total_load = 0\r\n",
        "    for vehicle_id in range(data['num_vehicles']):\r\n",
        "        index = routing.Start(vehicle_id)\r\n",
        "        plan_output = 'Route for vehicle {}:\\n'.format(vehicle_id)\r\n",
        "        route_distance = 0\r\n",
        "        route_load = 0\r\n",
        "        while not routing.IsEnd(index):\r\n",
        "            node_index = manager.IndexToNode(index)\r\n",
        "            route_load += data['demands'][node_index]\r\n",
        "            plan_output += ' {0} Load({1}) -> '.format(node_index, route_load)\r\n",
        "            previous_index = index\r\n",
        "            index = solution.Value(routing.NextVar(index))\r\n",
        "            route_distance += routing.GetArcCostForVehicle(\r\n",
        "                previous_index, index, vehicle_id)\r\n",
        "        plan_output += ' {0} Load({1})\\n'.format(manager.IndexToNode(index),\r\n",
        "                                                 route_load)\r\n",
        "        plan_output += 'Distance of the route: {}m\\n'.format(route_distance)\r\n",
        "        plan_output += 'Load of the route: {}\\n'.format(route_load)\r\n",
        "        print(plan_output)\r\n",
        "        total_distance += route_distance\r\n",
        "        total_load += route_load\r\n",
        "    print('Total distance of all routes: {}m'.format(total_distance))\r\n",
        "    print('Total load of all routes: {}'.format(total_load))\r\n",
        "    # [END solution_printer]\r\n",
        "\r\n",
        "\r\n",
        "\"\"\"Solve the CVRP problem.\"\"\"\r\n",
        "# Instantiate the data problem.\r\n",
        "# [START data]\r\n",
        "data = create_data_model()\r\n",
        "# [END data]\r\n",
        "\r\n",
        "# Create the routing index manager.\r\n",
        "# [START index_manager]\r\n",
        "manager = pywrapcp.RoutingIndexManager(len(data['distance_matrix']),\r\n",
        "                                       data['num_vehicles'], data['depot'])\r\n",
        "# [END index_manager]\r\n",
        "\r\n",
        "# Create Routing Model.\r\n",
        "# [START routing_model]\r\n",
        "routing = pywrapcp.RoutingModel(manager)\r\n",
        "\r\n",
        "# [END routing_model]\r\n",
        "\r\n",
        "# Create and register a transit callback.\r\n",
        "# [START transit_callback]\r\n",
        "def distance_callback(from_index, to_index):\r\n",
        "    \"\"\"Returns the distance between the two nodes.\"\"\"\r\n",
        "    # Convert from routing variable Index to distance matrix NodeIndex.\r\n",
        "    from_node = manager.IndexToNode(from_index)\r\n",
        "    to_node = manager.IndexToNode(to_index)\r\n",
        "    return data['distance_matrix'][from_node][to_node]\r\n",
        "\r\n",
        "transit_callback_index = routing.RegisterTransitCallback(distance_callback)\r\n",
        "# [END transit_callback]\r\n",
        "\r\n",
        "# Define cost of each arc.\r\n",
        "# [START arc_cost]\r\n",
        "routing.SetArcCostEvaluatorOfAllVehicles(transit_callback_index)\r\n",
        "\r\n",
        "# [END arc_cost]\r\n",
        "\r\n",
        "# Add Capacity constraint.\r\n",
        "# [START capacity_constraint]\r\n",
        "def demand_callback(from_index):\r\n",
        "    \"\"\"Returns the demand of the node.\"\"\"\r\n",
        "    # Convert from routing variable Index to demands NodeIndex.\r\n",
        "    from_node = manager.IndexToNode(from_index)\r\n",
        "    return data['demands'][from_node]\r\n",
        "\r\n",
        "demand_callback_index = routing.RegisterUnaryTransitCallback(\r\n",
        "    demand_callback)\r\n",
        "routing.AddDimensionWithVehicleCapacity(\r\n",
        "    demand_callback_index,\r\n",
        "    0,  # null capacity slack\r\n",
        "    data['vehicle_capacities'],  # vehicle maximum capacities\r\n",
        "    True,  # start cumul to zero\r\n",
        "    'Capacity')\r\n",
        "# [END capacity_constraint]\r\n",
        "\r\n",
        "# Setting first solution heuristic.\r\n",
        "# [START parameters]\r\n",
        "search_parameters = pywrapcp.DefaultRoutingSearchParameters()\r\n",
        "search_parameters.first_solution_strategy = (\r\n",
        "    routing_enums_pb2.FirstSolutionStrategy.PATH_CHEAPEST_ARC)\r\n",
        "search_parameters.local_search_metaheuristic = (\r\n",
        "    routing_enums_pb2.LocalSearchMetaheuristic.GUIDED_LOCAL_SEARCH)\r\n",
        "search_parameters.time_limit.FromSeconds(1)\r\n",
        "# [END parameters]\r\n",
        "\r\n",
        "# Solve the problem.\r\n",
        "# [START solve]\r\n",
        "solution = routing.SolveWithParameters(search_parameters)\r\n",
        "# [END solve]\r\n",
        "\r\n",
        "# Print solution on console.\r\n",
        "# [START print_solution]\r\n",
        "if solution:\r\n",
        "    print_solution(data, manager, routing, solution)\r\n",
        "# [END print_solution]"
      ],
      "execution_count": null,
      "outputs": []
    },
    {
      "cell_type": "markdown",
      "metadata": {
        "id": "my1pbxW0HT7P"
      },
      "source": [
        ""
      ]
    },
    {
      "cell_type": "code",
      "metadata": {
        "id": "fuAvhUiaHUaS"
      },
      "source": [
        ""
      ],
      "execution_count": null,
      "outputs": []
    }
  ]
}